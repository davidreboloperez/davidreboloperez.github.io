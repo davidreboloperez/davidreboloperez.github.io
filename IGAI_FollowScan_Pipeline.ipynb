{
 "cells": [
  {
   "cell_type": "markdown",
   "metadata": {},
   "source": [
    "# Load Libraries & Functions"
   ]
  },
  {
   "cell_type": "code",
   "execution_count": 7,
   "metadata": {},
   "outputs": [
    {
     "name": "stdout",
     "output_type": "stream",
     "text": [
      "06-02-2021 15:33:26 - Libraries and functions loaded correctly\n"
     ]
    }
   ],
   "source": [
    "import os\n",
    "path = os.getcwd() + '\\\\'\n",
    "igai_initialize = path + 'IGAI_Initialize.ipynb'\n",
    "\n",
    "%run $igai_initialize"
   ]
  },
  {
   "cell_type": "markdown",
   "metadata": {},
   "source": [
    "# Start Driver & Login"
   ]
  },
  {
   "cell_type": "code",
   "execution_count": 8,
   "metadata": {},
   "outputs": [],
   "source": [
    "minute = datetime.datetime.now().minute\n",
    "weekday = datetime.datetime.today().weekday() + 1\n",
    "\n",
    "if minute <= 30:\n",
    "    process = 'followers'\n",
    "    account = \"beautiful.flowers.and.plants\"\n",
    "else:\n",
    "    process = 'followed'\n",
    "    account = '_rebocop'"
   ]
  },
  {
   "cell_type": "code",
   "execution_count": 9,
   "metadata": {},
   "outputs": [
    {
     "name": "stdout",
     "output_type": "stream",
     "text": [
      "06-02-2021 15:33:26 - Account: @_rebocop\n",
      "06-02-2021 15:33:26 - Logs will be printed on screen\n",
      "06-02-2021 15:33:34 - @_rebocop was already logged in\n"
     ]
    }
   ],
   "source": [
    "printf('Account: @' + account)\n",
    "f, orig_stdout = saveLogs(account, 'FollowScan')\n",
    "\n",
    "driver = startDriver(account)\n",
    "Login(account)"
   ]
  },
  {
   "cell_type": "markdown",
   "metadata": {},
   "source": [
    "# PIPELINE 1: Extract followers/followed VIP users"
   ]
  },
  {
   "cell_type": "code",
   "execution_count": 10,
   "metadata": {},
   "outputs": [
    {
     "name": "stdout",
     "output_type": "stream",
     "text": [
      "06-02-2021 15:33:34 - EXTRACTING FOLLOWED OF @DANIELJARQUE\n",
      "---------------------------------------------------------------------------------------------------\n",
      "06-02-2021 15:33:39 - Loaded file users_ext.csv with 2 records.\n",
      "06-02-2021 15:33:39 - Loaded file users.csv with 41888 records.\n",
      "06-02-2021 15:33:40 - Table users updated, now it has 41888 records.\n",
      "06-02-2021 15:33:40 - Saved csv file: C:\\Users\\DavidRebollo\\0.InstagramScrapping\\dev\\users\n",
      "06-02-2021 15:33:40 - Removed csv file: C:\\Users\\DavidRebollo\\0.InstagramScrapping\\dev\\user_info_ext\n",
      "06-02-2021 15:33:40 - Saved csv file: C:\\Users\\DavidRebollo\\0.InstagramScrapping\\dev\\vipuserstrk\n",
      "06-02-2021 15:33:40 - Updated file: C:\\Users\\DavidRebollo\\0.InstagramScrapping\\dev\\photostrk\n",
      "06-02-2021 15:33:40 - Sleep ratio: 1.62\n",
      "06-02-2021 15:33:40 - Loaded fileC:\\Users\\DavidRebollo\\0.InstagramScrapping\\dev\\status\n",
      "06-02-2021 15:33:40 - \n",
      "Extracting 1506 followed of danieljarque (total: 1506) will take 1 minutes 41 seconds aproximately.\n",
      "06-02-2021 15:33:40 - \n",
      "Extracted: 0"
     ]
    },
    {
     "name": "stderr",
     "output_type": "stream",
     "text": [
      "C:\\Users\\DavidRebollo\\Anaconda3\\lib\\site-packages\\pandas\\core\\indexing.py:1597: SettingWithCopyWarning: \n",
      "A value is trying to be set on a copy of a slice from a DataFrame.\n",
      "Try using .loc[row_indexer,col_indexer] = value instead\n",
      "\n",
      "See the caveats in the documentation: https://pandas.pydata.org/pandas-docs/stable/user_guide/indexing.html#returning-a-view-versus-a-copy\n",
      "  self.obj[key] = value\n",
      "C:\\Users\\DavidRebollo\\Anaconda3\\lib\\site-packages\\pandas\\core\\indexing.py:1720: SettingWithCopyWarning: \n",
      "A value is trying to be set on a copy of a slice from a DataFrame.\n",
      "Try using .loc[row_indexer,col_indexer] = value instead\n",
      "\n",
      "See the caveats in the documentation: https://pandas.pydata.org/pandas-docs/stable/user_guide/indexing.html#returning-a-view-versus-a-copy\n",
      "  self._setitem_single_column(loc, value, pi)\n"
     ]
    },
    {
     "name": "stdout",
     "output_type": "stream",
     "text": [
      " -> 48 -> 92 -> 140 -> 185 -> 234 -> 281 -> 328 -> 374 -> 419 -> 466 -> 509 -> 557 -> 598 -> 640 -> 686 -> 734 -> 779 -> 822 -> 866 -> 904 -> 946 -> 988 -> 1028 -> 1068 -> 1108 -> 1154 -> 1194 -> 1234 -> 1275 -> 1322 -> 1368 -> 1412 -> 1452 -> 1492 -> 1496\n",
      "\n",
      "06-02-2021 15:37:51 - Loaded file users_ext.csv with 1496 records.\n",
      "06-02-2021 15:37:52 - Loaded file users.csv with 41888 records.\n",
      "06-02-2021 15:37:52 - Table users updated, now it has 42683 records.\n",
      "06-02-2021 15:37:52 - Saved csv file: C:\\Users\\DavidRebollo\\0.InstagramScrapping\\dev\\users\n",
      "06-02-2021 15:37:52 - Removed csv file: C:\\Users\\DavidRebollo\\0.InstagramScrapping\\dev\\users_ext\n",
      "06-02-2021 15:37:52 - Loaded file C:\\Users\\DavidRebollo\\0.InstagramScrapping\\dev\\relationstrk with 135542 records.\n",
      "06-02-2021 15:37:53 - Loaded file C:\\Users\\DavidRebollo\\0.InstagramScrapping\\dev\\relations with 70544 records.\n",
      "06-02-2021 15:37:53 - Table relations updated, now it has 70558 records.\n",
      "06-02-2021 15:37:54 - Saved csv file: C:\\Users\\DavidRebollo\\0.InstagramScrapping\\dev\\relations\n",
      "\n",
      "\n",
      "06-02-2021 15:37:56 - EXTRACTING FOLLOWED OF @SERASPATETICA\n",
      "---------------------------------------------------------------------------------------------------\n",
      "06-02-2021 15:38:00 - Loaded file users_ext.csv with 1 records.\n",
      "06-02-2021 15:38:00 - Loaded file users.csv with 42683 records.\n",
      "06-02-2021 15:38:00 - Table users updated, now it has 42683 records.\n",
      "06-02-2021 15:38:01 - Saved csv file: C:\\Users\\DavidRebollo\\0.InstagramScrapping\\dev\\users\n",
      "06-02-2021 15:38:01 - Removed csv file: C:\\Users\\DavidRebollo\\0.InstagramScrapping\\dev\\user_info_ext\n",
      "06-02-2021 15:38:01 - Saved csv file: C:\\Users\\DavidRebollo\\0.InstagramScrapping\\dev\\vipuserstrk\n",
      "06-02-2021 15:38:01 - Updated file: C:\\Users\\DavidRebollo\\0.InstagramScrapping\\dev\\photostrk\n",
      "06-02-2021 15:38:01 - Sleep ratio: 1.62\n",
      "06-02-2021 15:38:01 - Loaded fileC:\\Users\\DavidRebollo\\0.InstagramScrapping\\dev\\status\n",
      "06-02-2021 15:38:01 - \n",
      "Extracting 251 followed of seraspatetica (total: 251) will take 0 minutes 16 seconds aproximately.\n",
      "06-02-2021 15:38:01 - \n",
      "Extracted: 0 -> 50 -> 97 -> 145 -> 195 -> 243 -> 249\n",
      "\n",
      "06-02-2021 15:38:44 - Loaded file users_ext.csv with 249 records.\n",
      "06-02-2021 15:38:44 - Loaded file users.csv with 42683 records.\n",
      "06-02-2021 15:38:44 - Table users updated, now it has 42813 records.\n",
      "06-02-2021 15:38:45 - Saved csv file: C:\\Users\\DavidRebollo\\0.InstagramScrapping\\dev\\users\n",
      "06-02-2021 15:38:45 - Removed csv file: C:\\Users\\DavidRebollo\\0.InstagramScrapping\\dev\\users_ext\n",
      "06-02-2021 15:38:45 - Loaded file C:\\Users\\DavidRebollo\\0.InstagramScrapping\\dev\\relationstrk with 135791 records.\n",
      "06-02-2021 15:38:45 - Loaded file C:\\Users\\DavidRebollo\\0.InstagramScrapping\\dev\\relations with 70558 records.\n",
      "06-02-2021 15:38:46 - Table relations updated, now it has 70561 records.\n",
      "06-02-2021 15:38:46 - Saved csv file: C:\\Users\\DavidRebollo\\0.InstagramScrapping\\dev\\relations\n",
      "\n",
      "\n",
      "06-02-2021 15:38:48 - EXTRACTING FOLLOWED OF @DRAMASDEHONOR\n",
      "---------------------------------------------------------------------------------------------------\n",
      "06-02-2021 15:38:52 - Loaded file users_ext.csv with 1 records.\n",
      "06-02-2021 15:38:53 - Loaded file users.csv with 42813 records.\n",
      "06-02-2021 15:38:53 - Table users updated, now it has 42813 records.\n",
      "06-02-2021 15:38:54 - Saved csv file: C:\\Users\\DavidRebollo\\0.InstagramScrapping\\dev\\users\n",
      "06-02-2021 15:38:54 - Removed csv file: C:\\Users\\DavidRebollo\\0.InstagramScrapping\\dev\\user_info_ext\n",
      "06-02-2021 15:38:54 - Saved csv file: C:\\Users\\DavidRebollo\\0.InstagramScrapping\\dev\\vipuserstrk\n",
      "06-02-2021 15:38:54 - Updated file: C:\\Users\\DavidRebollo\\0.InstagramScrapping\\dev\\photostrk\n",
      "06-02-2021 15:38:54 - Sleep ratio: 1.62\n",
      "06-02-2021 15:38:54 - Loaded fileC:\\Users\\DavidRebollo\\0.InstagramScrapping\\dev\\status\n",
      "06-02-2021 15:38:54 - \n",
      "Extracting 1072 followed of dramasdehonor (total: 1072) will take 1 minutes 12 seconds aproximately.\n",
      "06-02-2021 15:38:54 - \n",
      "Extracted: 0 -> 48 -> 97 -> 147 -> 195 -> 245 -> 295 -> 345 -> 392 -> 441 -> 490 -> 539 -> 588 -> 634 -> 681 -> 730 -> 776 -> 822 -> 869 -> 916 -> 964 -> 1012 -> 1061 -> 1071\n",
      "\n",
      "06-02-2021 15:41:38 - Loaded file users_ext.csv with 1071 records.\n",
      "06-02-2021 15:41:38 - Loaded file users.csv with 42813 records.\n",
      "06-02-2021 15:41:39 - Table users updated, now it has 43279 records.\n",
      "06-02-2021 15:41:39 - Saved csv file: C:\\Users\\DavidRebollo\\0.InstagramScrapping\\dev\\users\n",
      "06-02-2021 15:41:39 - Removed csv file: C:\\Users\\DavidRebollo\\0.InstagramScrapping\\dev\\users_ext\n",
      "06-02-2021 15:41:39 - Loaded file C:\\Users\\DavidRebollo\\0.InstagramScrapping\\dev\\relationstrk with 136862 records.\n",
      "06-02-2021 15:41:39 - Loaded file C:\\Users\\DavidRebollo\\0.InstagramScrapping\\dev\\relations with 70561 records.\n",
      "06-02-2021 15:41:40 - Table relations updated, now it has 70568 records.\n",
      "06-02-2021 15:41:40 - Saved csv file: C:\\Users\\DavidRebollo\\0.InstagramScrapping\\dev\\relations\n",
      "\n",
      "\n",
      "06-02-2021 15:41:42 - EXTRACTING FOLLOWED OF @LAVICTORIABANKS\n",
      "---------------------------------------------------------------------------------------------------\n",
      "06-02-2021 15:41:47 - Loaded file users_ext.csv with 1 records.\n",
      "06-02-2021 15:41:47 - Loaded file users.csv with 43279 records.\n",
      "06-02-2021 15:41:47 - Table users updated, now it has 43279 records.\n",
      "06-02-2021 15:41:48 - Saved csv file: C:\\Users\\DavidRebollo\\0.InstagramScrapping\\dev\\users\n",
      "06-02-2021 15:41:48 - Removed csv file: C:\\Users\\DavidRebollo\\0.InstagramScrapping\\dev\\user_info_ext\n",
      "06-02-2021 15:41:48 - Saved csv file: C:\\Users\\DavidRebollo\\0.InstagramScrapping\\dev\\vipuserstrk\n",
      "06-02-2021 15:41:48 - Updated file: C:\\Users\\DavidRebollo\\0.InstagramScrapping\\dev\\photostrk\n",
      "06-02-2021 15:41:48 - Sleep ratio: 1.62\n",
      "06-02-2021 15:41:48 - Loaded fileC:\\Users\\DavidRebollo\\0.InstagramScrapping\\dev\\status\n",
      "06-02-2021 15:41:48 - \n",
      "Extracting 1443 followed of lavictoriabanks (total: 1443) will take 1 minutes 37 seconds aproximately.\n",
      "06-02-2021 15:41:48 - \n",
      "Extracted: 0 -> 48 -> 98 -> 147 -> 196 -> 246 -> 295 -> 345 -> 395 -> 444 -> 491 -> 540 -> 589 -> 637 -> 687 -> 735 -> 785 -> 832 -> 882 -> 931 -> 979 -> 1027 -> 1075 -> 1123 -> 1173 -> 1220 -> 1269 -> 1319 -> 1368 -> 1416 -> 1438\n",
      "\n",
      "06-02-2021 15:45:22 - Loaded file users_ext.csv with 1438 records.\n",
      "06-02-2021 15:45:22 - Loaded file users.csv with 43279 records.\n",
      "06-02-2021 15:45:23 - Table users updated, now it has 43974 records.\n",
      "06-02-2021 15:45:23 - Saved csv file: C:\\Users\\DavidRebollo\\0.InstagramScrapping\\dev\\users\n",
      "06-02-2021 15:45:23 - Removed csv file: C:\\Users\\DavidRebollo\\0.InstagramScrapping\\dev\\users_ext\n",
      "06-02-2021 15:45:23 - Loaded file C:\\Users\\DavidRebollo\\0.InstagramScrapping\\dev\\relationstrk with 138300 records.\n",
      "06-02-2021 15:45:24 - Loaded file C:\\Users\\DavidRebollo\\0.InstagramScrapping\\dev\\relations with 70568 records.\n",
      "06-02-2021 15:45:24 - Table relations updated, now it has 70585 records.\n",
      "06-02-2021 15:45:25 - Saved csv file: C:\\Users\\DavidRebollo\\0.InstagramScrapping\\dev\\relations\n",
      "\n",
      "\n",
      "06-02-2021 15:45:27 - FINISHED =============================================================================================\n"
     ]
    }
   ],
   "source": [
    "max_status_hours = 5*24 #maximum hours to look backwards in status log table\n",
    "requests = 0\n",
    "risk_level = 0.25  #recommended medium risk: 0.5 // low risk (slower): 0.1  // high risk (faster): 0.8\n",
    "#process = 'followers' # followers, followed, hashtags\n",
    "\n",
    "\n",
    "if weekday == 1 or weekday == 5:\n",
    "    vip_users = list(['reboludeces' , 'rebolbear', 'jav_rubin'])\n",
    "elif weekday == 2 or weekday == 6:\n",
    "    vip_users = list(['danieljarque', 'seraspatetica', 'dramasdehonor', 'lavictoriabanks'])\n",
    "elif weekday == 3 or weekday == 7:\n",
    "    vip_users = list(['danisure21', 'eduardography', 'byadri_gipe'])\n",
    "elif weekday == 4:\n",
    "    vip_users = list(['influencerdemercadillo', 'tedejobonito', 'adri_gipe', '_rebocop'])\n",
    "\n",
    "#vip_users = list(['goodluckshootinthemoon','matmazelmeli']) \n",
    "\n",
    "for username in vip_users:\n",
    "    printf('EXTRACTING ' + process.upper() + ' OF @' + username.upper() )\n",
    "    print('---------------------------------------------------------------------------------------------------')\n",
    "    requests = readFollowers(username, process, max_status_hours, requests, risk_level)\n",
    "    print('\\n')\n",
    "    time.sleep(2)\n",
    "\n",
    "printf('FINISHED =============================================================================================')"
   ]
  },
  {
   "cell_type": "code",
   "execution_count": 11,
   "metadata": {},
   "outputs": [
    {
     "ename": "AttributeError",
     "evalue": "'int' object has no attribute 'close'",
     "output_type": "error",
     "traceback": [
      "\u001b[1;31m---------------------------------------------------------------------------\u001b[0m",
      "\u001b[1;31mAttributeError\u001b[0m                            Traceback (most recent call last)",
      "\u001b[1;32m<ipython-input-11-ee711c922418>\u001b[0m in \u001b[0;36m<module>\u001b[1;34m\u001b[0m\n\u001b[0;32m      1\u001b[0m \u001b[0mdriver\u001b[0m\u001b[1;33m.\u001b[0m\u001b[0mquit\u001b[0m\u001b[1;33m(\u001b[0m\u001b[1;33m)\u001b[0m\u001b[1;33m\u001b[0m\u001b[1;33m\u001b[0m\u001b[0m\n\u001b[0;32m      2\u001b[0m \u001b[0msys\u001b[0m\u001b[1;33m.\u001b[0m\u001b[0mstdout\u001b[0m \u001b[1;33m=\u001b[0m \u001b[0morig_stdout\u001b[0m\u001b[1;33m\u001b[0m\u001b[1;33m\u001b[0m\u001b[0m\n\u001b[1;32m----> 3\u001b[1;33m \u001b[0mf\u001b[0m\u001b[1;33m.\u001b[0m\u001b[0mclose\u001b[0m\u001b[1;33m(\u001b[0m\u001b[1;33m)\u001b[0m\u001b[1;33m\u001b[0m\u001b[1;33m\u001b[0m\u001b[0m\n\u001b[0m",
      "\u001b[1;31mAttributeError\u001b[0m: 'int' object has no attribute 'close'"
     ]
    }
   ],
   "source": [
    "driver.quit()\n",
    "sys.stdout = orig_stdout\n",
    "f.close()"
   ]
  }
 ],
 "metadata": {
  "kernelspec": {
   "display_name": "Python 3",
   "language": "python",
   "name": "python3"
  },
  "language_info": {
   "codemirror_mode": {
    "name": "ipython",
    "version": 3
   },
   "file_extension": ".py",
   "mimetype": "text/x-python",
   "name": "python",
   "nbconvert_exporter": "python",
   "pygments_lexer": "ipython3",
   "version": "3.7.3"
  }
 },
 "nbformat": 4,
 "nbformat_minor": 2
}
