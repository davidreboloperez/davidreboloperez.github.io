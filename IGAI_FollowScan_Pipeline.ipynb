{
 "cells": [
  {
   "cell_type": "markdown",
   "metadata": {},
   "source": [
    "# Load Libraries & Functions"
   ]
  },
  {
   "cell_type": "code",
   "execution_count": 9,
   "metadata": {},
   "outputs": [
    {
     "name": "stdout",
     "output_type": "stream",
     "text": [
      "Libraries and functions loaded correctly 2021-01-26 07:48:31.447818\n"
     ]
    }
   ],
   "source": [
    "import os\n",
    "path = os.getcwd() + '\\\\'\n",
    "igai_initialize = path + 'IGAI_Initialize.ipynb'\n",
    "\n",
    "%run $igai_initialize"
   ]
  },
  {
   "cell_type": "markdown",
   "metadata": {},
   "source": [
    "# Start Driver & Login"
   ]
  },
  {
   "cell_type": "code",
   "execution_count": 6,
   "metadata": {},
   "outputs": [],
   "source": [
    "account = \"beautiful.flowers.and.plants\"\n",
    "#account = 'las.m.a.m.o'\n",
    "#account = 'reboludeces'\n",
    "#account = '_rebocop'"
   ]
  },
  {
   "cell_type": "code",
   "execution_count": 7,
   "metadata": {},
   "outputs": [],
   "source": [
    "driver = webdriver.Chrome(executable_path=\"C:\\Program Files (x86)\\Google\\Chrome\\Application\\chromedriver.exe\")\n",
    "driver.maximize_window()\n",
    "driver.implicitly_wait(10)\n",
    "\n",
    "pwd = pd.read_csv(pwd_file)\n",
    "pwdaccount = pwd[pwd.username == account].pwd.iloc[0]\n",
    "\n",
    "do_Login(account,pwdaccount)"
   ]
  },
  {
   "cell_type": "markdown",
   "metadata": {},
   "source": [
    "# PIPELINE 1: Extract followers/followed VIP users"
   ]
  },
  {
   "cell_type": "code",
   "execution_count": 8,
   "metadata": {},
   "outputs": [
    {
     "name": "stdout",
     "output_type": "stream",
     "text": [
      "EXTRACTING FOLLOWERS OF @_REBOCOP\n",
      "--------------------------------------------------------------------------------------------------------------\n",
      "Loaded file users_ext.csv with 1 records.\n",
      "Loaded file users.csv with 55079 records.\n",
      "Table users updated, now it has 55079 records.\n",
      "Saved csv file: C:\\Users\\DavidRebollo\\0.InstagramScrapping\\dev\\users\n",
      "Removed csv file: C:\\Users\\DavidRebollo\\0.InstagramScrapping\\dev\\user_info_ext\n",
      "Saved csv file: C:\\Users\\DavidRebollo\\0.InstagramScrapping\\dev\\vipuserstrk\n",
      "Sleep ratio: 1.25\n",
      "Loaded fileC:\\Users\\DavidRebollo\\0.InstagramScrapping\\dev\\status\n",
      "\n",
      "Extracting 12 followers of _rebocop (total: 12) will take 0 minutes 0 seconds aproximately.\n",
      "Extracted: 0"
     ]
    },
    {
     "name": "stderr",
     "output_type": "stream",
     "text": [
      "C:\\Users\\DavidRebollo\\Anaconda3\\lib\\site-packages\\pandas\\core\\indexing.py:1597: SettingWithCopyWarning: \n",
      "A value is trying to be set on a copy of a slice from a DataFrame.\n",
      "Try using .loc[row_indexer,col_indexer] = value instead\n",
      "\n",
      "See the caveats in the documentation: https://pandas.pydata.org/pandas-docs/stable/user_guide/indexing.html#returning-a-view-versus-a-copy\n",
      "  self.obj[key] = value\n",
      "C:\\Users\\DavidRebollo\\Anaconda3\\lib\\site-packages\\pandas\\core\\indexing.py:1720: SettingWithCopyWarning: \n",
      "A value is trying to be set on a copy of a slice from a DataFrame.\n",
      "Try using .loc[row_indexer,col_indexer] = value instead\n",
      "\n",
      "See the caveats in the documentation: https://pandas.pydata.org/pandas-docs/stable/user_guide/indexing.html#returning-a-view-versus-a-copy\n",
      "  self._setitem_single_column(loc, value, pi)\n"
     ]
    },
    {
     "name": "stdout",
     "output_type": "stream",
     "text": [
      " -> 12\n",
      "\n",
      "Loaded file users_ext.csv with 12 records.\n",
      "Loaded file users.csv with 55079 records.\n",
      "Table users updated, now it has 55080 records.\n",
      "Saved csv file: C:\\Users\\DavidRebollo\\0.InstagramScrapping\\dev\\users\n",
      "Removed csv file: C:\\Users\\DavidRebollo\\0.InstagramScrapping\\dev\\users_ext\n",
      "Loaded file C:\\Users\\DavidRebollo\\0.InstagramScrapping\\dev\\relationstrk with 133052 records.\n",
      "Loaded file C:\\Users\\DavidRebollo\\0.InstagramScrapping\\dev\\relations with 69325 records.\n",
      "Table relations updated, now it has 69530 records.\n",
      "Saved csv file: C:\\Users\\DavidRebollo\\0.InstagramScrapping\\dev\\relations\n",
      "\n",
      "\n",
      "FINISHED ========================================================================================================\n"
     ]
    }
   ],
   "source": [
    "max_status_hours = 5*24 #maximum hours to look backwards in status log table\n",
    "requests = 0\n",
    "process = 'followers' # followers, followed, hashtags\n",
    "risk_level = 0.5  #recommended medium risk: 0.5 // low risk (slower): 0.1  // high risk (faster): 0.8\n",
    "\n",
    "#vip_users = list(['reboludeces' , 'rebolbear', 'danisure21', 'jav_rubin'])\n",
    "#vip_users = list(['danieljarque', 'seraspatetica', 'dramasdehonor', 'lavictoriabanks'])\n",
    "vip_users = list(['eduardography', 'influencerdemercadillo', 'tedejobonito', 'adri_gipe', 'byadri_gipe'])\n",
    "#vip_users = list(['goodluckshootinthemoon','matmazelmeli']) \n",
    "\n",
    "vip_users = ['_rebocop']\n",
    "\n",
    "# HAY UN BUG EN UPDATEUSER! EN LA LINEA         users_ext['last_update_time_info'] = users_ext['inserted_time']\n",
    "# DEBIDO A QUE, EN EL CASO QUE SOLO SE TENGA QUE HACER UPDATE DE LA PARTE \"BASIC\", SE LE ESTÁ ASIGNANDO UN \n",
    "# TIMESTAMP MAYOR AL QUE TENÍA CON TODA LA INFO Y LOS NANs LO MACHACAN\n",
    "\n",
    "for username in vip_users:\n",
    "    print('EXTRACTING ' + process.upper() + ' OF @' + username.upper() )\n",
    "    print('--------------------------------------------------------------------------------------------------------------')\n",
    "    requests = readFollowers(username, process, max_status_hours, requests, risk_level)\n",
    "    print('\\n')\n",
    "    time.sleep(2)\n",
    "\n",
    "print('FINISHED ========================================================================================================')"
   ]
  }
 ],
 "metadata": {
  "kernelspec": {
   "display_name": "Python 3",
   "language": "python",
   "name": "python3"
  },
  "language_info": {
   "codemirror_mode": {
    "name": "ipython",
    "version": 3
   },
   "file_extension": ".py",
   "mimetype": "text/x-python",
   "name": "python",
   "nbconvert_exporter": "python",
   "pygments_lexer": "ipython3",
   "version": "3.7.3"
  }
 },
 "nbformat": 4,
 "nbformat_minor": 2
}
