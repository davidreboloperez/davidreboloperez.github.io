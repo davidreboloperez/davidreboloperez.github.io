{
 "cells": [
  {
   "cell_type": "code",
   "execution_count": 70,
   "metadata": {},
   "outputs": [
    {
     "name": "stdout",
     "output_type": "stream",
     "text": [
      "06-02-2021 16:09:26 - Libraries and functions loaded correctly\n"
     ]
    }
   ],
   "source": [
    "import os\n",
    "path = os.getcwd() + '\\\\'\n",
    "igai_initialize = path + 'IGAI_Initialize.ipynb'\n",
    "\n",
    "%run $igai_initialize"
   ]
  },
  {
   "cell_type": "code",
   "execution_count": 71,
   "metadata": {},
   "outputs": [],
   "source": [
    "minute = datetime.datetime.now().minute\n",
    "\n",
    "if minute < 15:\n",
    "    account = 'rebolbear'\n",
    "elif minute < 30:\n",
    "    account = 'reboludeces'\n",
    "elif minute < 45:\n",
    "    account = 'rebolbear'\n",
    "else:\n",
    "    account = 'reboludeces'"
   ]
  },
  {
   "cell_type": "code",
   "execution_count": 1,
   "metadata": {},
   "outputs": [
    {
     "ename": "NameError",
     "evalue": "name 'printf' is not defined",
     "output_type": "error",
     "traceback": [
      "\u001b[1;31m---------------------------------------------------------------------------\u001b[0m",
      "\u001b[1;31mNameError\u001b[0m                                 Traceback (most recent call last)",
      "\u001b[1;32m<ipython-input-1-dffa590b0439>\u001b[0m in \u001b[0;36m<module>\u001b[1;34m\u001b[0m\n\u001b[1;32m----> 1\u001b[1;33m \u001b[0mprintf\u001b[0m\u001b[1;33m(\u001b[0m\u001b[1;34m'Account: @'\u001b[0m \u001b[1;33m+\u001b[0m \u001b[0maccount\u001b[0m\u001b[1;33m)\u001b[0m\u001b[1;33m\u001b[0m\u001b[1;33m\u001b[0m\u001b[0m\n\u001b[0m\u001b[0;32m      2\u001b[0m \u001b[0mf\u001b[0m\u001b[1;33m,\u001b[0m \u001b[0morig_stdout\u001b[0m \u001b[1;33m=\u001b[0m \u001b[0msaveLogs\u001b[0m\u001b[1;33m(\u001b[0m\u001b[0maccount\u001b[0m\u001b[1;33m,\u001b[0m \u001b[1;34m'FollowUnfollow'\u001b[0m\u001b[1;33m)\u001b[0m\u001b[1;33m\u001b[0m\u001b[1;33m\u001b[0m\u001b[0m\n\u001b[0;32m      3\u001b[0m \u001b[1;33m\u001b[0m\u001b[0m\n\u001b[0;32m      4\u001b[0m \u001b[0mdriver\u001b[0m \u001b[1;33m=\u001b[0m \u001b[0mstartDriver\u001b[0m\u001b[1;33m(\u001b[0m\u001b[0maccount\u001b[0m\u001b[1;33m)\u001b[0m\u001b[1;33m\u001b[0m\u001b[1;33m\u001b[0m\u001b[0m\n\u001b[0;32m      5\u001b[0m \u001b[0mLogin\u001b[0m\u001b[1;33m(\u001b[0m\u001b[0maccount\u001b[0m\u001b[1;33m)\u001b[0m\u001b[1;33m\u001b[0m\u001b[1;33m\u001b[0m\u001b[0m\n",
      "\u001b[1;31mNameError\u001b[0m: name 'printf' is not defined"
     ]
    }
   ],
   "source": [
    "printf('Account: @' + account)\n",
    "f, orig_stdout = saveLogs(account, 'FollowUnfollow')\n",
    "\n",
    "driver = startDriver(account)\n",
    "Login(account)"
   ]
  },
  {
   "cell_type": "markdown",
   "metadata": {},
   "source": [
    "# Pipeline"
   ]
  },
  {
   "cell_type": "code",
   "execution_count": 73,
   "metadata": {},
   "outputs": [
    {
     "name": "stdout",
     "output_type": "stream",
     "text": [
      "06-02-2021 16:09:39 - UNFOLLOW PROCESS OF @REBOLBEAR----------------------------------------------------------\n",
      "06-02-2021 16:09:40 - @rebolbear has a list of 2155 users to unfollow\n"
     ]
    },
    {
     "name": "stderr",
     "output_type": "stream",
     "text": [
      "C:\\Users\\DavidRebollo\\Anaconda3\\lib\\site-packages\\pandas\\core\\indexing.py:1676: SettingWithCopyWarning: \n",
      "A value is trying to be set on a copy of a slice from a DataFrame.\n",
      "Try using .loc[row_indexer,col_indexer] = value instead\n",
      "\n",
      "See the caveats in the documentation: https://pandas.pydata.org/pandas-docs/stable/user_guide/indexing.html#returning-a-view-versus-a-copy\n",
      "  self._setitem_single_column(ilocs[0], value, pi)\n"
     ]
    },
    {
     "name": "stdout",
     "output_type": "stream",
     "text": [
      "06-02-2021 16:09:40 - The number of requests performed in the last 6 hours is 40\n",
      "06-02-2021 16:09:41 - Max_requests exceeded: 40\n",
      "06-02-2021 16:09:41 - Loaded file C:\\Users\\DavidRebollo\\0.InstagramScrapping\\dev\\relationstrk with 138300 records.\n",
      "06-02-2021 16:09:41 - Loaded file C:\\Users\\DavidRebollo\\0.InstagramScrapping\\dev\\relations with 70585 records.\n",
      "06-02-2021 16:09:42 - Table relations updated, now it has 70585 records.\n",
      "06-02-2021 16:09:42 - Saved csv file: C:\\Users\\DavidRebollo\\0.InstagramScrapping\\dev\\relations\n",
      "\n",
      "\n",
      "06-02-2021 16:09:42 - FOLLOW PROCESS OF @REBOLBEAR---------------------------------------------------------------\n",
      "06-02-2021 16:09:42 - The number of requests performed in the last 6 hours is 20\n",
      "06-02-2021 16:09:43 - Max_requests exceeded: 20\n",
      "06-02-2021 16:09:43 - Loaded file C:\\Users\\DavidRebollo\\0.InstagramScrapping\\dev\\relationstrk with 138300 records.\n",
      "06-02-2021 16:09:43 - Loaded file C:\\Users\\DavidRebollo\\0.InstagramScrapping\\dev\\relations with 70585 records.\n",
      "06-02-2021 16:09:44 - Table relations updated, now it has 70585 records.\n",
      "06-02-2021 16:09:44 - Saved csv file: C:\\Users\\DavidRebollo\\0.InstagramScrapping\\dev\\relations\n",
      " \n",
      "06-02-2021 16:09:44 - FINISHED FOLLOW PROCESS OF @REBOLBEAR------------------------------------------------------\n"
     ]
    }
   ],
   "source": [
    "#Parameters\n",
    "\n",
    "if account == 'reboludeces':\n",
    "    max_requests_unfollow = 30 #30\n",
    "    popularity_ratio_unfollow = 0\n",
    "    max_requests_follow = 50   #50\n",
    "    popularity_ratio_follow = 10\n",
    "    shortcode = 'CKq11qHAqy7'\n",
    "    min_following_days = 10\n",
    "\n",
    "elif account == 'rebolbear':\n",
    "    max_requests_unfollow = 40\n",
    "    popularity_ratio_unfollow = 1.2\n",
    "    max_requests_follow = 20\n",
    "    popularity_ratio_follow = 10\n",
    "    shortcode = 'CG8uZq8jX8n' # future 'CG93KEhDPqE'\n",
    "    min_following_days = 10\n",
    "\n",
    "    \n",
    "#UNFOLLOW --------------------------------------------------------------------------------------------------------\n",
    "\n",
    "printf('UNFOLLOW PROCESS OF @' + account.upper() + '----------------------------------------------------------')\n",
    "relations = pd.read_csv(relations_file)\n",
    "relations.loc[:,'time'] = relations['inserted_time'].apply(lambda x: datetime.datetime.strptime(x, '%Y-%m-%d %H:%M:%S.%f'))\n",
    "#users2unfollow = relations[relations.followed_by_username == account].sort_values('inserted_time')['username']\n",
    "relations = relations[relations.time <  datetime.datetime.now() - datetime.timedelta(days=min_following_days)]\n",
    "fwr = list(relations.loc[(relations.username == account) & (relations.status == \"following\"),\"followed_by_username\"])\n",
    "fwd = list(relations.loc[(relations.followed_by_username == account) & (relations.status == \"following\"),\"username\"])\n",
    "notfollowers = [item for item in fwd if item not in fwr]\n",
    "followers = [item for item in fwd if item in fwr]\n",
    "df_notfollowers = relations[(relations.username.isin(notfollowers)) & (relations.followed_by_username == account)].sort_values(\"time\", ascending = True)\n",
    "df_followers = relations[(relations.username.isin(followers)) & (relations.followed_by_username == account)].sort_values(\"time\", ascending = True)\n",
    "users2unfollow = pd.concat([df_notfollowers[\"username\"], df_followers[\"username\"]]) \n",
    "\n",
    "printf( '@' + account + ' has a list of ' + str(len(users2unfollow)) + ' users to unfollow')\n",
    "\n",
    "try:\n",
    "    followUnfollowTheseUsers(users2unfollow, process='unfollow', max_requests=max_requests_unfollow, popularity_ratio=popularity_ratio_unfollow)\n",
    "except Exception as e:\n",
    "    printf(e)\n",
    "    printf('There was an error in the unfollow run')\n",
    "    updateRelationsTable(relationstrk_file, relations_file)\n",
    "    \n",
    "    \n",
    "#FOLLOW --------------------------------------------------------------------------------------------------------\n",
    "\n",
    "print('\\n')\n",
    "printf('FOLLOW PROCESS OF @' + account.upper() + '---------------------------------------------------------------')\n",
    "likestrk =  pd.read_csv(likestrk_file) \n",
    "users2follow = likestrk.loc[likestrk.shortcode == shortcode,\"username\"]\n",
    "\n",
    "try:\n",
    "    followUnfollowTheseUsers(users2follow, process='follow',  max_requests=max_requests_follow, popularity_ratio =popularity_ratio_follow)\n",
    "except Exception as e:\n",
    "    printf(e)\n",
    "    printf('There was an error in the follow run')\n",
    "    updateRelationsTable(relationstrk_file, relations_file)\n",
    "\n",
    "print(' ')\n",
    "printf('FINISHED FOLLOW PROCESS OF @' + account.upper() + '------------------------------------------------------')"
   ]
  },
  {
   "cell_type": "code",
   "execution_count": 74,
   "metadata": {},
   "outputs": [],
   "source": [
    "#Truncate timestamp to date\n",
    "#relations.loc[:,'date'] = relations['inserted_time'].apply(lambda x: datetime.datetime.strftime(datetime.datetime.strptime(x, '%Y-%m-%d %H:%M:%S.%f'),'%Y-%m-%d'))\n",
    "\n",
    "#Frequency table\n",
    "#pd.value_counts(user_relations.date).to_frame().reset_index()\n"
   ]
  },
  {
   "cell_type": "code",
   "execution_count": 75,
   "metadata": {},
   "outputs": [
    {
     "ename": "AttributeError",
     "evalue": "'int' object has no attribute 'close'",
     "output_type": "error",
     "traceback": [
      "\u001b[1;31m---------------------------------------------------------------------------\u001b[0m",
      "\u001b[1;31mAttributeError\u001b[0m                            Traceback (most recent call last)",
      "\u001b[1;32m<ipython-input-75-ee711c922418>\u001b[0m in \u001b[0;36m<module>\u001b[1;34m\u001b[0m\n\u001b[0;32m      1\u001b[0m \u001b[0mdriver\u001b[0m\u001b[1;33m.\u001b[0m\u001b[0mquit\u001b[0m\u001b[1;33m(\u001b[0m\u001b[1;33m)\u001b[0m\u001b[1;33m\u001b[0m\u001b[1;33m\u001b[0m\u001b[0m\n\u001b[0;32m      2\u001b[0m \u001b[0msys\u001b[0m\u001b[1;33m.\u001b[0m\u001b[0mstdout\u001b[0m \u001b[1;33m=\u001b[0m \u001b[0morig_stdout\u001b[0m\u001b[1;33m\u001b[0m\u001b[1;33m\u001b[0m\u001b[0m\n\u001b[1;32m----> 3\u001b[1;33m \u001b[0mf\u001b[0m\u001b[1;33m.\u001b[0m\u001b[0mclose\u001b[0m\u001b[1;33m(\u001b[0m\u001b[1;33m)\u001b[0m\u001b[1;33m\u001b[0m\u001b[1;33m\u001b[0m\u001b[0m\n\u001b[0m",
      "\u001b[1;31mAttributeError\u001b[0m: 'int' object has no attribute 'close'"
     ]
    }
   ],
   "source": [
    "driver.quit()\n",
    "sys.stdout = orig_stdout\n",
    "f.close()"
   ]
  }
 ],
 "metadata": {
  "kernelspec": {
   "display_name": "Python 3",
   "language": "python",
   "name": "python3"
  },
  "language_info": {
   "codemirror_mode": {
    "name": "ipython",
    "version": 3
   },
   "file_extension": ".py",
   "mimetype": "text/x-python",
   "name": "python",
   "nbconvert_exporter": "python",
   "pygments_lexer": "ipython3",
   "version": "3.7.3"
  }
 },
 "nbformat": 4,
 "nbformat_minor": 2
}
