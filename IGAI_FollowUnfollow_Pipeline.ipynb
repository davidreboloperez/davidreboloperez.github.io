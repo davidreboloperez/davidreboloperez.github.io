{
 "cells": [
  {
   "cell_type": "code",
   "execution_count": 47,
   "metadata": {},
   "outputs": [
    {
     "name": "stdout",
     "output_type": "stream",
     "text": [
      "Libraries and functions loaded correctly 2021-01-26 07:56:50.300062\n"
     ]
    }
   ],
   "source": [
    "import os\n",
    "path = os.getcwd() + '\\\\'\n",
    "igai_initialize = path + 'IGAI_Initialize.ipynb'\n",
    "\n",
    "%run $igai_initialize"
   ]
  },
  {
   "cell_type": "code",
   "execution_count": 42,
   "metadata": {},
   "outputs": [],
   "source": [
    "#account = 'reboludeces'\n",
    "account = 'rebolbear'"
   ]
  },
  {
   "cell_type": "code",
   "execution_count": 43,
   "metadata": {},
   "outputs": [],
   "source": [
    "driver = webdriver.Chrome(executable_path=\"C:\\Program Files (x86)\\Google\\Chrome\\Application\\chromedriver.exe\")\n",
    "driver.maximize_window()\n",
    "driver.implicitly_wait(10)\n",
    "\n",
    "pwd = pd.read_csv(pwd_file)\n",
    "pwdaccount = pwd[pwd.username == account].pwd.iloc[0]\n",
    "\n",
    "do_Login(account,pwdaccount)"
   ]
  },
  {
   "cell_type": "markdown",
   "metadata": {},
   "source": [
    "# Pipeline: Follow users who like a photo"
   ]
  },
  {
   "cell_type": "code",
   "execution_count": 40,
   "metadata": {},
   "outputs": [
    {
     "name": "stderr",
     "output_type": "stream",
     "text": [
      "C:\\Users\\DavidRebollo\\Anaconda3\\lib\\site-packages\\ipykernel_launcher.py:9: SettingWithCopyWarning: \n",
      "A value is trying to be set on a copy of a slice from a DataFrame.\n",
      "Try using .loc[row_indexer,col_indexer] = value instead\n",
      "\n",
      "See the caveats in the documentation: https://pandas.pydata.org/pandas-docs/stable/user_guide/indexing.html#returning-a-view-versus-a-copy\n",
      "  if __name__ == '__main__':\n"
     ]
    },
    {
     "name": "stdout",
     "output_type": "stream",
     "text": [
      "@__charlize.ff does not exist anymore. Action follow skipped.\n",
      "@yosduar.hernandez does not exist anymore. Action follow skipped.\n",
      "@reboludeces started following @moisesgarcia152\n",
      "Saved csv file: C:\\Users\\DavidRebollo\\0.InstagramScrapping\\dev\\relationstrk\n",
      "Request number 1\n",
      "@reboludeces started following @elenagro_07\n",
      "Saved csv file: C:\\Users\\DavidRebollo\\0.InstagramScrapping\\dev\\relationstrk\n",
      "Request number 2\n",
      "@reboludeces started following @valen_astorga15\n",
      "Saved csv file: C:\\Users\\DavidRebollo\\0.InstagramScrapping\\dev\\relationstrk\n",
      "Request number 3\n",
      "@reboludeces started following @danielcristaldoo\n",
      "Saved csv file: C:\\Users\\DavidRebollo\\0.InstagramScrapping\\dev\\relationstrk\n",
      "Request number 4\n",
      "@reboludeces started following @karlalizeth.herrera\n",
      "Saved csv file: C:\\Users\\DavidRebollo\\0.InstagramScrapping\\dev\\relationstrk\n",
      "Request number 5\n",
      "@reboludeces started following @_wael_as\n",
      "Saved csv file: C:\\Users\\DavidRebollo\\0.InstagramScrapping\\dev\\relationstrk\n",
      "Request number 6\n",
      "@reboludeces started following @alejandro_garcia.11\n",
      "Saved csv file: C:\\Users\\DavidRebollo\\0.InstagramScrapping\\dev\\relationstrk\n",
      "Request number 7\n",
      "@reboludeces started following @kaciel_kciel\n",
      "Saved csv file: C:\\Users\\DavidRebollo\\0.InstagramScrapping\\dev\\relationstrk\n",
      "Request number 8\n",
      "@reboludeces started following @elmadafaka_mati\n",
      "Saved csv file: C:\\Users\\DavidRebollo\\0.InstagramScrapping\\dev\\relationstrk\n",
      "Request number 9\n",
      "@reboludeces started following @sggerman97\n",
      "Saved csv file: C:\\Users\\DavidRebollo\\0.InstagramScrapping\\dev\\relationstrk\n",
      "Request number 10\n",
      "@reboludeces started following @salvadorcecena\n",
      "Saved csv file: C:\\Users\\DavidRebollo\\0.InstagramScrapping\\dev\\relationstrk\n",
      "Request number 11\n",
      "@reboludeces started following @40rubencalzada\n",
      "Saved csv file: C:\\Users\\DavidRebollo\\0.InstagramScrapping\\dev\\relationstrk\n",
      "Request number 12\n",
      "@reboludeces started following @facusantos_13\n",
      "Saved csv file: C:\\Users\\DavidRebollo\\0.InstagramScrapping\\dev\\relationstrk\n",
      "Request number 13\n",
      "@reboludeces started following @ezee.cv\n",
      "Saved csv file: C:\\Users\\DavidRebollo\\0.InstagramScrapping\\dev\\relationstrk\n",
      "Request number 14\n",
      "@reboludeces started following @prettyxgitana\n",
      "Saved csv file: C:\\Users\\DavidRebollo\\0.InstagramScrapping\\dev\\relationstrk\n",
      "Request number 15\n",
      "@reboludeces started following @_repompi\n",
      "Saved csv file: C:\\Users\\DavidRebollo\\0.InstagramScrapping\\dev\\relationstrk\n",
      "Request number 16\n",
      "@reboludeces started following @lautaro__luna\n",
      "Saved csv file: C:\\Users\\DavidRebollo\\0.InstagramScrapping\\dev\\relationstrk\n",
      "Request number 17\n",
      "@reboludeces started following @valen_arango14\n",
      "Saved csv file: C:\\Users\\DavidRebollo\\0.InstagramScrapping\\dev\\relationstrk\n",
      "Request number 18\n",
      "@reboludeces started following @rip_gabii\n",
      "Saved csv file: C:\\Users\\DavidRebollo\\0.InstagramScrapping\\dev\\relationstrk\n",
      "Request number 19\n",
      "@reboludeces started following @carpiolm10\n",
      "Saved csv file: C:\\Users\\DavidRebollo\\0.InstagramScrapping\\dev\\relationstrk\n",
      "Request number 20\n",
      "@reboludeces started following @philipp_munger\n",
      "Saved csv file: C:\\Users\\DavidRebollo\\0.InstagramScrapping\\dev\\relationstrk\n",
      "Request number 21\n",
      "@reboludeces started following @lluis05_nls\n",
      "Saved csv file: C:\\Users\\DavidRebollo\\0.InstagramScrapping\\dev\\relationstrk\n",
      "Request number 22\n",
      "@reboludeces started following @fm_bryanx\n",
      "Saved csv file: C:\\Users\\DavidRebollo\\0.InstagramScrapping\\dev\\relationstrk\n",
      "Request number 23\n",
      "@reboludeces started following @memeface2202\n",
      "Saved csv file: C:\\Users\\DavidRebollo\\0.InstagramScrapping\\dev\\relationstrk\n",
      "Request number 24\n",
      "@reboludeces started following @meluu_12s\n",
      "Saved csv file: C:\\Users\\DavidRebollo\\0.InstagramScrapping\\dev\\relationstrk\n",
      "Request number 25\n",
      "@reboludeces started following @acedixx\n",
      "Saved csv file: C:\\Users\\DavidRebollo\\0.InstagramScrapping\\dev\\relationstrk\n",
      "Request number 26\n",
      "@reboludeces started following @cysky.fn\n",
      "Saved csv file: C:\\Users\\DavidRebollo\\0.InstagramScrapping\\dev\\relationstrk\n",
      "Request number 27\n",
      "@reboludeces started following @marta_ojedaa\n",
      "Saved csv file: C:\\Users\\DavidRebollo\\0.InstagramScrapping\\dev\\relationstrk\n",
      "Request number 28\n",
      "@reboludeces started following @julieta__agostina\n",
      "Saved csv file: C:\\Users\\DavidRebollo\\0.InstagramScrapping\\dev\\relationstrk\n",
      "Request number 29\n",
      "@reboludeces started following @brianasamudio18\n",
      "Saved csv file: C:\\Users\\DavidRebollo\\0.InstagramScrapping\\dev\\relationstrk\n",
      "Request number 30\n",
      "@reboludeces started following @lucanera_\n",
      "Saved csv file: C:\\Users\\DavidRebollo\\0.InstagramScrapping\\dev\\relationstrk\n",
      "Request number 31\n",
      "@reboludeces started following @angellozano05132020\n",
      "Saved csv file: C:\\Users\\DavidRebollo\\0.InstagramScrapping\\dev\\relationstrk\n",
      "Request number 32\n",
      "@reboludeces started following @_luny.paz_\n",
      "Saved csv file: C:\\Users\\DavidRebollo\\0.InstagramScrapping\\dev\\relationstrk\n",
      "Request number 33\n",
      "@reboludeces started following @alethepro4\n",
      "Saved csv file: C:\\Users\\DavidRebollo\\0.InstagramScrapping\\dev\\relationstrk\n",
      "Request number 34\n",
      "@reboludeces started following @oscar_mendoza_22\n",
      "Saved csv file: C:\\Users\\DavidRebollo\\0.InstagramScrapping\\dev\\relationstrk\n",
      "Request number 35\n",
      "@reboludeces started following @maxielhorno\n",
      "Saved csv file: C:\\Users\\DavidRebollo\\0.InstagramScrapping\\dev\\relationstrk\n",
      "Request number 36\n",
      "@reboludeces started following @hectorjaviergarcia89\n",
      "Saved csv file: C:\\Users\\DavidRebollo\\0.InstagramScrapping\\dev\\relationstrk\n",
      "Request number 37\n",
      "@reboludeces started following @_umamalena_\n",
      "Saved csv file: C:\\Users\\DavidRebollo\\0.InstagramScrapping\\dev\\relationstrk\n",
      "Request number 38\n",
      "@reboludeces started following @p.i.c.t.a\n",
      "Saved csv file: C:\\Users\\DavidRebollo\\0.InstagramScrapping\\dev\\relationstrk\n",
      "Request number 39\n",
      "@reboludeces started following @nahuu_ruiiz_diazz\n",
      "Saved csv file: C:\\Users\\DavidRebollo\\0.InstagramScrapping\\dev\\relationstrk\n",
      "Request number 40\n",
      "@reboludeces started following @chris_g.10\n",
      "Saved csv file: C:\\Users\\DavidRebollo\\0.InstagramScrapping\\dev\\relationstrk\n",
      "Request number 41\n",
      "THIS ACTION WAS BLOCKED BY INSTAGRAM <-------------------------------------------\n",
      "@reboludeces did not followed @lucianagarniernino\n",
      "The process automatically stopped following users since this action has been blocked by instagram\n",
      "Total accounts followed: 41\n"
     ]
    },
    {
     "data": {
      "text/plain": [
       "-1"
      ]
     },
     "execution_count": 40,
     "metadata": {},
     "output_type": "execute_result"
    }
   ],
   "source": [
    "shortcode = 'CKXuggyIqjE'\n",
    "process = 'follow'\n",
    "max_requests = 50\n",
    "popularity_ratio = 0\n",
    "\n",
    "likestrk =  pd.read_csv(likestrk_file) \n",
    "username_list = likestrk[likestrk.shortcode == shortcode][\"username\"]\n",
    "\n",
    "followUnfollowTheseUsers(username_list, process, max_requests, popularity_ratio)"
   ]
  },
  {
   "cell_type": "markdown",
   "metadata": {},
   "source": [
    "# Pipeline: Follow/Unfollow users in list"
   ]
  },
  {
   "cell_type": "code",
   "execution_count": 55,
   "metadata": {},
   "outputs": [
    {
     "name": "stderr",
     "output_type": "stream",
     "text": [
      "C:\\Users\\DavidRebollo\\Anaconda3\\lib\\site-packages\\ipykernel_launcher.py:9: SettingWithCopyWarning: \n",
      "A value is trying to be set on a copy of a slice from a DataFrame.\n",
      "Try using .loc[row_indexer,col_indexer] = value instead\n",
      "\n",
      "See the caveats in the documentation: https://pandas.pydata.org/pandas-docs/stable/user_guide/indexing.html#returning-a-view-versus-a-copy\n",
      "  if __name__ == '__main__':\n"
     ]
    },
    {
     "name": "stdout",
     "output_type": "stream",
     "text": [
      "@danisure21 was not unfollowed since it is in the whitelist\n",
      "@seraspatetica was not unfollowed since it is in the whitelist\n",
      "@danieljarque was not unfollowed since it is in the whitelist\n",
      "@lavictoriabanks was not unfollowed since it is in the whitelist\n",
      "@jav_rubin was not unfollowed since it is in the whitelist\n",
      "@dramasdehonor was not unfollowed since it is in the whitelist\n",
      "@eduardography was not unfollowed since it is in the whitelist\n",
      "@influencerdemercadillo was not unfollowed since it is in the whitelist\n",
      "@tedejobonito was not unfollowed since it is in the whitelist\n",
      "@adri_gipe was not unfollowed since it is in the whitelist\n",
      "Loaded file users_ext.csv with 1 records.\n",
      "Loaded file users.csv with 55106 records.\n",
      "Table users updated, now it has 55106 records.\n",
      "Saved csv file: C:\\Users\\DavidRebollo\\0.InstagramScrapping\\dev\\users\n",
      "Removed csv file: C:\\Users\\DavidRebollo\\0.InstagramScrapping\\dev\\user_info_ext\n",
      "Saved csv file: C:\\Users\\DavidRebollo\\0.InstagramScrapping\\dev\\vipuserstrk\n",
      "@byadri_gipe was not unfollowed since its popularity ratio is too high (8.2)\n",
      "Loaded file users_ext.csv with 1 records.\n",
      "Loaded file users.csv with 55106 records.\n",
      "Table users updated, now it has 55106 records.\n",
      "Saved csv file: C:\\Users\\DavidRebollo\\0.InstagramScrapping\\dev\\users\n",
      "Removed csv file: C:\\Users\\DavidRebollo\\0.InstagramScrapping\\dev\\user_info_ext\n",
      "Saved csv file: C:\\Users\\DavidRebollo\\0.InstagramScrapping\\dev\\vipuserstrk\n",
      "@alejandrositges was not unfollowed since its popularity ratio is too high (1.38)\n",
      "Loaded file users_ext.csv with 1 records.\n",
      "Loaded file users.csv with 55106 records.\n",
      "Table users updated, now it has 55107 records.\n",
      "Saved csv file: C:\\Users\\DavidRebollo\\0.InstagramScrapping\\dev\\users\n",
      "Removed csv file: C:\\Users\\DavidRebollo\\0.InstagramScrapping\\dev\\user_info_ext\n",
      "Saved csv file: C:\\Users\\DavidRebollo\\0.InstagramScrapping\\dev\\vipuserstrk\n",
      "@369oscar369 was not unfollowed since its popularity ratio is too high (2.72)\n",
      "Loaded file users_ext.csv with 1 records.\n",
      "Loaded file users.csv with 55107 records.\n",
      "Table users updated, now it has 55108 records.\n",
      "Saved csv file: C:\\Users\\DavidRebollo\\0.InstagramScrapping\\dev\\users\n",
      "Removed csv file: C:\\Users\\DavidRebollo\\0.InstagramScrapping\\dev\\user_info_ext\n",
      "Saved csv file: C:\\Users\\DavidRebollo\\0.InstagramScrapping\\dev\\vipuserstrk\n",
      "@rebolbear does not follow @leinad.kovac (no action required)\n",
      "Loaded file users_ext.csv with 1 records.\n",
      "Loaded file users.csv with 55108 records.\n",
      "Table users updated, now it has 55108 records.\n",
      "Saved csv file: C:\\Users\\DavidRebollo\\0.InstagramScrapping\\dev\\users\n",
      "Removed csv file: C:\\Users\\DavidRebollo\\0.InstagramScrapping\\dev\\user_info_ext\n",
      "Saved csv file: C:\\Users\\DavidRebollo\\0.InstagramScrapping\\dev\\vipuserstrk\n",
      "@yerayhecheyde was not unfollowed since its popularity ratio is too high (1.22)\n",
      "Loaded file users_ext.csv with 1 records.\n",
      "Loaded file users.csv with 55108 records.\n",
      "Table users updated, now it has 55108 records.\n",
      "Saved csv file: C:\\Users\\DavidRebollo\\0.InstagramScrapping\\dev\\users\n",
      "Removed csv file: C:\\Users\\DavidRebollo\\0.InstagramScrapping\\dev\\user_info_ext\n",
      "Saved csv file: C:\\Users\\DavidRebollo\\0.InstagramScrapping\\dev\\vipuserstrk\n",
      "@rebolbear unfollowed @carajito80\n",
      "Saved csv file: C:\\Users\\DavidRebollo\\0.InstagramScrapping\\dev\\relationstrk\n",
      "Request number 32\n",
      "Max_requests exceeded: 32\n",
      "Loaded file C:\\Users\\DavidRebollo\\0.InstagramScrapping\\dev\\relationstrk with 131942 records.\n",
      "Loaded file C:\\Users\\DavidRebollo\\0.InstagramScrapping\\dev\\relations with 69530 records.\n",
      "Table relations updated, now it has 69530 records.\n",
      "Saved csv file: C:\\Users\\DavidRebollo\\0.InstagramScrapping\\dev\\relations\n"
     ]
    }
   ],
   "source": [
    "process = 'unfollow'\n",
    "max_requests = 32\n",
    "popularity_ratio = 1.2\n",
    "\n",
    "relations = pd.read_csv(relations_file)\n",
    "username_list = relations[relations.followed_by_username == account].sort_values('inserted_time')['username']\n",
    "\n",
    "followUnfollowTheseUsers(username_list, process, max_requests, popularity_ratio)"
   ]
  },
  {
   "cell_type": "code",
   "execution_count": null,
   "metadata": {
    "collapsed": true
   },
   "outputs": [],
   "source": []
  },
  {
   "cell_type": "code",
   "execution_count": 52,
   "metadata": {},
   "outputs": [
    {
     "name": "stdout",
     "output_type": "stream",
     "text": [
      "Loaded file C:\\Users\\DavidRebollo\\0.InstagramScrapping\\dev\\relationstrk with 131940 records.\n",
      "Loaded file C:\\Users\\DavidRebollo\\0.InstagramScrapping\\dev\\relations with 69530 records.\n",
      "Table relations updated, now it has 69530 records.\n",
      "Saved csv file: C:\\Users\\DavidRebollo\\0.InstagramScrapping\\dev\\relations\n"
     ]
    }
   ],
   "source": [
    "updateRelationsTable(relationstrk_file, relations_file)\n"
   ]
  },
  {
   "cell_type": "code",
   "execution_count": 53,
   "metadata": {},
   "outputs": [
    {
     "data": {
      "text/html": [
       "<div>\n",
       "<style scoped>\n",
       "    .dataframe tbody tr th:only-of-type {\n",
       "        vertical-align: middle;\n",
       "    }\n",
       "\n",
       "    .dataframe tbody tr th {\n",
       "        vertical-align: top;\n",
       "    }\n",
       "\n",
       "    .dataframe thead th {\n",
       "        text-align: right;\n",
       "    }\n",
       "</style>\n",
       "<table border=\"1\" class=\"dataframe\">\n",
       "  <thead>\n",
       "    <tr style=\"text-align: right;\">\n",
       "      <th></th>\n",
       "      <th>status</th>\n",
       "      <th>userid</th>\n",
       "      <th>username</th>\n",
       "      <th>followed_by_userid</th>\n",
       "      <th>followed_by_username</th>\n",
       "      <th>inserted_time</th>\n",
       "      <th>process</th>\n",
       "    </tr>\n",
       "  </thead>\n",
       "  <tbody>\n",
       "    <tr>\n",
       "      <th>80284</th>\n",
       "      <td>following</td>\n",
       "      <td>8652734638</td>\n",
       "      <td>zahicohen80</td>\n",
       "      <td>2381046352</td>\n",
       "      <td>rebolbear</td>\n",
       "      <td>2021-01-20 21:25:26.042409</td>\n",
       "      <td>followed_extraction</td>\n",
       "    </tr>\n",
       "    <tr>\n",
       "      <th>82500</th>\n",
       "      <td>following</td>\n",
       "      <td>8652734638</td>\n",
       "      <td>zahicohen80</td>\n",
       "      <td>2068500642</td>\n",
       "      <td>danisure21</td>\n",
       "      <td>2021-01-20 21:26:58.910851</td>\n",
       "      <td>followed_extraction</td>\n",
       "    </tr>\n",
       "  </tbody>\n",
       "</table>\n",
       "</div>"
      ],
      "text/plain": [
       "          status      userid     username  followed_by_userid  \\\n",
       "80284  following  8652734638  zahicohen80          2381046352   \n",
       "82500  following  8652734638  zahicohen80          2068500642   \n",
       "\n",
       "      followed_by_username               inserted_time              process  \n",
       "80284            rebolbear  2021-01-20 21:25:26.042409  followed_extraction  \n",
       "82500           danisure21  2021-01-20 21:26:58.910851  followed_extraction  "
      ]
     },
     "execution_count": 53,
     "metadata": {},
     "output_type": "execute_result"
    }
   ],
   "source": [
    "relationstrk = pd.read_csv(relationstrk_file)\n",
    "relationstrk[relationstrk.username == 'zahicohen80']"
   ]
  },
  {
   "cell_type": "code",
   "execution_count": 51,
   "metadata": {},
   "outputs": [],
   "source": []
  }
 ],
 "metadata": {
  "kernelspec": {
   "display_name": "Python 3",
   "language": "python",
   "name": "python3"
  },
  "language_info": {
   "codemirror_mode": {
    "name": "ipython",
    "version": 3
   },
   "file_extension": ".py",
   "mimetype": "text/x-python",
   "name": "python",
   "nbconvert_exporter": "python",
   "pygments_lexer": "ipython3",
   "version": "3.7.3"
  }
 },
 "nbformat": 4,
 "nbformat_minor": 2
}
