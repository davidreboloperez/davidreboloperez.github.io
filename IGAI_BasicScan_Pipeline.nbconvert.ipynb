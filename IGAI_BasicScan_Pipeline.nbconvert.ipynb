{
 "cells": [
  {
   "cell_type": "markdown",
   "metadata": {},
   "source": [
    "# Load Libraries & Functions"
   ]
  },
  {
   "cell_type": "code",
   "execution_count": 1,
   "metadata": {
    "execution": {
     "iopub.execute_input": "2021-02-04T21:05:29.793111Z",
     "iopub.status.busy": "2021-02-04T21:05:29.793111Z",
     "iopub.status.idle": "2021-02-04T21:05:31.039823Z",
     "shell.execute_reply": "2021-02-04T21:05:31.038824Z"
    }
   },
   "outputs": [
    {
     "name": "stdout",
     "output_type": "stream",
     "text": [
      "05-02-2021 09:31:28 - Libraries and functions loaded correctly\n"
     ]
    }
   ],
   "source": [
    "import os\n",
    "path = os.getcwd() + '\\\\'\n",
    "igai_initialize = path + 'IGAI_Initialize.ipynb'\n",
    "\n",
    "%run $igai_initialize"
   ]
  },
  {
   "cell_type": "markdown",
   "metadata": {},
   "source": [
    "# Start Driver & Login"
   ]
  },
  {
   "cell_type": "code",
   "execution_count": 3,
   "metadata": {
    "execution": {
     "iopub.execute_input": "2021-02-04T21:05:31.042814Z",
     "iopub.status.busy": "2021-02-04T21:05:31.042814Z",
     "iopub.status.idle": "2021-02-04T21:05:31.045807Z",
     "shell.execute_reply": "2021-02-04T21:05:31.045807Z"
    }
   },
   "outputs": [],
   "source": [
    "#account = \"beautiful.flowers.and.plants\"\n",
    "account = '_rebocop'\n",
    "\n",
    "f, orig_stdout = saveLogs(account, 'BasicScan')"
   ]
  },
  {
   "cell_type": "code",
   "execution_count": 7,
   "metadata": {
    "execution": {
     "iopub.execute_input": "2021-02-04T21:05:31.049763Z",
     "iopub.status.busy": "2021-02-04T21:05:31.049763Z",
     "iopub.status.idle": "2021-02-04T21:05:49.835775Z",
     "shell.execute_reply": "2021-02-04T21:05:49.835775Z"
    }
   },
   "outputs": [],
   "source": [
    "from selenium.webdriver.chrome.options import Options\n",
    "\n",
    "driver = webdriver.Chrome(executable_path=\"C:\\Program Files (x86)\\Google\\Chrome\\Application\\chromedriver.exe\")    \n",
    "driver.maximize_window()\n",
    "driver.implicitly_wait(5)\n",
    "\n",
    "do_Login(account)"
   ]
  },
  {
   "cell_type": "markdown",
   "metadata": {},
   "source": [
    "# PIPELINE: Extract Info VIP users"
   ]
  },
  {
   "cell_type": "code",
   "execution_count": 4,
   "metadata": {
    "execution": {
     "iopub.execute_input": "2021-02-04T21:05:49.843760Z",
     "iopub.status.busy": "2021-02-04T21:05:49.842762Z",
     "iopub.status.idle": "2021-02-04T21:09:24.812630Z",
     "shell.execute_reply": "2021-02-04T21:09:24.810595Z"
    }
   },
   "outputs": [],
   "source": [
    "\n",
    "vip_users2 = list([ 'reboludeces'\n",
    "                   , '_rebocop'\n",
    "                   , 'beautiful.flowers.and.plants'\n",
    "                   , 'rebolbear'\n",
    "                   , 'danisure21'\n",
    "                   , 'jav_rubin'\n",
    "                   , 'seraspatetica'\n",
    "                   , 'dramasdehonor'\n",
    "                   , 'lavictoriabanks'\n",
    "                   , 'danieljarque'\n",
    "                   , 'influencerdemercadillo'\n",
    "                   , 'tedejobonito'\n",
    "                   , 'eduardography'\n",
    "                   , 'davidpgalvez'\n",
    "                   , 'dichoyhecho'\n",
    "                   , 'dulceisma'\n",
    "                   , 'juvat_vivere'\n",
    "                   , 'aqavas'\n",
    "                   , 'lalitogram'\n",
    "                   , 'adri_gipe'\n",
    "                   , 'byadri_gipe'\n",
    "                   , 'marimontanafest'\n",
    "                   , 'oviaska'\n",
    "                   , 'frewtwojota'\n",
    "                   , 'roma.ba'])\n",
    "\n",
    "#vip_users2 = list(['goodluckshootinthemoon','matmazelmeli']) \n",
    "\n",
    "\n",
    "for username in vip_users2:\n",
    "    printf('EXTRACTING BASIC INFO OF @' + username.upper() )\n",
    "    print('--------------------------------------------------------------------------------------------------------------')\n",
    "    UserInfo(username)\n",
    "    print('\\n')\n",
    "    time.sleep(3)\n",
    "\n",
    "printf('FINISHED ========================================================================================================')"
   ]
  },
  {
   "cell_type": "code",
   "execution_count": 5,
   "metadata": {
    "execution": {
     "iopub.execute_input": "2021-02-04T21:09:24.825550Z",
     "iopub.status.busy": "2021-02-04T21:09:24.823560Z",
     "iopub.status.idle": "2021-02-04T21:09:27.016987Z",
     "shell.execute_reply": "2021-02-04T21:09:27.015984Z"
    }
   },
   "outputs": [],
   "source": [
    "driver.quit()"
   ]
  },
  {
   "cell_type": "code",
   "execution_count": 6,
   "metadata": {
    "execution": {
     "iopub.execute_input": "2021-02-04T21:09:27.027909Z",
     "iopub.status.busy": "2021-02-04T21:09:27.026915Z",
     "iopub.status.idle": "2021-02-04T21:09:27.030946Z",
     "shell.execute_reply": "2021-02-04T21:09:27.029947Z"
    }
   },
   "outputs": [],
   "source": [
    "vip_users2 = list([ 'reboludeces'\n",
    "                   , '_rebocop'\n",
    "                   , 'beautiful.flowers.and.plants'\n",
    "                   , 'rebolbear'\n",
    "                   , 'danisure21'\n",
    "                   , 'jav_rubin'\n",
    "                   , 'seraspatetica'\n",
    "                   , 'dramasdehonor'\n",
    "                   , 'lavictoriabanks'\n",
    "                   , 'danieljarque'\n",
    "                   , 'influencerdemercadillo'\n",
    "                   , 'tedejobonito'\n",
    "                   , 'eduardography'\n",
    "                   , 'davidpgalvez'\n",
    "                   , 'dichoyhecho'\n",
    "                   , 'dulceisma'\n",
    "                   , 'juvat_vivere'\n",
    "                   , 'aqavas'\n",
    "                   , 'lalitogram'\n",
    "                   , 'adri_gipe'\n",
    "                   , 'byadri_gipe'\n",
    "                   , 'marimontanafest'\n",
    "                   , 'oviaska'\n",
    "                   , 'frewtwojota'\n",
    "                   , 'roma.ba'])"
   ]
  }
 ],
 "metadata": {
  "kernelspec": {
   "display_name": "Python 3",
   "language": "python",
   "name": "python3"
  },
  "language_info": {
   "codemirror_mode": {
    "name": "ipython",
    "version": 3
   },
   "file_extension": ".py",
   "mimetype": "text/x-python",
   "name": "python",
   "nbconvert_exporter": "python",
   "pygments_lexer": "ipython3",
   "version": "3.7.3"
  }
 },
 "nbformat": 4,
 "nbformat_minor": 2
}
