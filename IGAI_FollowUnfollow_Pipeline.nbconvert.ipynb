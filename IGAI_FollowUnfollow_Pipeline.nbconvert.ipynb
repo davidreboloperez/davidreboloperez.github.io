{
 "cells": [
  {
   "cell_type": "code",
   "execution_count": 1,
   "metadata": {
    "execution": {
     "iopub.execute_input": "2021-02-05T13:26:25.410417Z",
     "iopub.status.busy": "2021-02-05T13:26:25.409419Z",
     "iopub.status.idle": "2021-02-05T13:26:26.613211Z",
     "shell.execute_reply": "2021-02-05T13:26:26.612212Z"
    }
   },
   "outputs": [
    {
     "name": "stdout",
     "output_type": "stream",
     "text": [
      "05-02-2021 14:26:26 - Libraries and functions loaded correctly\n"
     ]
    }
   ],
   "source": [
    "import os\n",
    "path = os.getcwd() + '\\\\'\n",
    "igai_initialize = path + 'IGAI_Initialize.ipynb'\n",
    "\n",
    "%run $igai_initialize"
   ]
  },
  {
   "cell_type": "code",
   "execution_count": 2,
   "metadata": {
    "execution": {
     "iopub.execute_input": "2021-02-05T13:26:26.616202Z",
     "iopub.status.busy": "2021-02-05T13:26:26.616202Z",
     "iopub.status.idle": "2021-02-05T13:26:26.620223Z",
     "shell.execute_reply": "2021-02-05T13:26:26.620223Z"
    }
   },
   "outputs": [],
   "source": [
    "minute = datetime.datetime.now().minute\n",
    "\n",
    "if minute < 15:\n",
    "    account = 'rebolbear'\n",
    "else:\n",
    "    account = 'reboludeces'\n",
    "\n",
    "f, orig_stdout = saveLogs(account, 'FollowUnfollow')"
   ]
  },
  {
   "cell_type": "code",
   "execution_count": 3,
   "metadata": {
    "execution": {
     "iopub.execute_input": "2021-02-05T13:26:26.624182Z",
     "iopub.status.busy": "2021-02-05T13:26:26.624182Z",
     "iopub.status.idle": "2021-02-05T13:26:46.655079Z",
     "shell.execute_reply": "2021-02-05T13:26:46.656074Z"
    }
   },
   "outputs": [],
   "source": [
    "from selenium.webdriver.chrome.options import Options\n",
    "\n",
    "options = Options()\n",
    "options.add_argument(\"user-data-dir=C:\\\\Users\\\\DavidRebollo\\\\AppData\\\\Local\\\\Google\\\\Chrome\\\\User Data Bot\")\n",
    "\n",
    "driver = webdriver.Chrome(executable_path=\"C:\\Program Files (x86)\\Google\\Chrome\\Application\\chromedriver.exe\", options=options)\n",
    "driver.maximize_window()\n",
    "driver.implicitly_wait(5)\n",
    "\n",
    "changeAccount(account)\n",
    "#do_Login(account,pwdaccount)"
   ]
  },
  {
   "cell_type": "markdown",
   "metadata": {},
   "source": [
    "# Pipeline"
   ]
  },
  {
   "cell_type": "code",
   "execution_count": 4,
   "metadata": {
    "execution": {
     "iopub.execute_input": "2021-02-05T13:26:46.667047Z",
     "iopub.status.busy": "2021-02-05T13:26:46.661061Z",
     "iopub.status.idle": "2021-02-05T13:28:29.685418Z",
     "shell.execute_reply": "2021-02-05T13:28:29.685418Z"
    }
   },
   "outputs": [
    {
     "name": "stderr",
     "output_type": "stream",
     "text": [
      "C:\\Users\\DavidRebollo\\Anaconda3\\lib\\site-packages\\pandas\\core\\indexing.py:1676: SettingWithCopyWarning: \n",
      "A value is trying to be set on a copy of a slice from a DataFrame.\n",
      "Try using .loc[row_indexer,col_indexer] = value instead\n",
      "\n",
      "See the caveats in the documentation: https://pandas.pydata.org/pandas-docs/stable/user_guide/indexing.html#returning-a-view-versus-a-copy\n",
      "  self._setitem_single_column(ilocs[0], value, pi)\n"
     ]
    }
   ],
   "source": [
    "#Parameters\n",
    "\n",
    "if account == 'reboludeces':\n",
    "    max_requests_unfollow = 30\n",
    "    popularity_ratio_unfollow = 0\n",
    "    max_requests_follow = 50\n",
    "    popularity_ratio_follow = 10\n",
    "    shortcode = 'CKXuggyIqjE'\n",
    "    min_following_days = 10\n",
    "\n",
    "elif account == 'rebolbear':\n",
    "    max_requests_unfollow = 10 #40\n",
    "    popularity_ratio_unfollow = 1.2\n",
    "    max_requests_follow = 3 #20\n",
    "    popularity_ratio_follow = 10\n",
    "    shortcode = 'CG8uZq8jX8n'\n",
    "    min_following_days = 10\n",
    "\n",
    "    \n",
    "#UNFOLLOW --------------------------------------------------------------------------------------------------------\n",
    "\n",
    "printf('UNFOLLOW PROCESS OF @' + account.upper() + '----------------------------------------------------------')\n",
    "relations = pd.read_csv(relations_file)\n",
    "relations.loc[:,'time'] = relations['inserted_time'].apply(lambda x: datetime.datetime.strptime(x, '%Y-%m-%d %H:%M:%S.%f'))\n",
    "#users2unfollow = relations[relations.followed_by_username == account].sort_values('inserted_time')['username']\n",
    "relations = relations[relations.time <  datetime.datetime.now() - datetime.timedelta(days=min_following_days)]\n",
    "fwr = list(relations.loc[(relations.username == account) & (relations.status == \"following\"),\"followed_by_username\"])\n",
    "fwd = list(relations.loc[(relations.followed_by_username == account) & (relations.status == \"following\"),\"username\"])\n",
    "notfollowers = [item for item in fwd if item not in fwr]\n",
    "followers = [item for item in fwd if item in fwr]\n",
    "df_notfollowers = relations[(relations.username.isin(notfollowers)) & (relations.followed_by_username == account)].sort_values(\"time\", ascending = True)\n",
    "df_followers = relations[(relations.username.isin(followers)) & (relations.followed_by_username == account)].sort_values(\"time\", ascending = True)\n",
    "users2unfollow = pd.concat([df_notfollowers[\"username\"], df_followers[\"username\"]]) \n",
    "\n",
    "printf( '@' + account + ' has a list of ' + str(len(users2unfollow)) + ' users to unfollow')\n",
    "\n",
    "try:\n",
    "    followUnfollowTheseUsers(users2unfollow, process='unfollow', max_requests=max_requests_unfollow, popularity_ratio=popularity_ratio_unfollow)\n",
    "except:\n",
    "    printf('There was an error in the unfollow run')\n",
    "    updateRelationsTable(relationstrk_file, relations_file)\n",
    "    \n",
    "    \n",
    "#FOLLOW --------------------------------------------------------------------------------------------------------\n",
    "\n",
    "print('\\n\\n')\n",
    "printf('FOLLOW PROCESS OF @' + account.upper() + '------------------------------------------------------')\n",
    "likestrk =  pd.read_csv(likestrk_file) \n",
    "users2follow = likestrk.loc[likestrk.shortcode == shortcode,\"username\"]\n",
    "\n",
    "try:\n",
    "    followUnfollowTheseUsers(users2follow, process='follow',  max_requests=max_requests_follow, popularity_ratio =popularity_ratio_follow)\n",
    "except:\n",
    "    printf('There was an error in the follow run')\n",
    "    updateRelationsTable(relationstrk_file, relations_file)\n",
    "\n",
    "printf('\\n\\nFINISHED FOLLOW PROCESS OF @' + account.upper() + '------------------------------------------------------')"
   ]
  },
  {
   "cell_type": "code",
   "execution_count": 5,
   "metadata": {
    "execution": {
     "iopub.execute_input": "2021-02-05T13:28:29.688407Z",
     "iopub.status.busy": "2021-02-05T13:28:29.687376Z",
     "iopub.status.idle": "2021-02-05T13:28:29.689388Z",
     "shell.execute_reply": "2021-02-05T13:28:29.689388Z"
    }
   },
   "outputs": [],
   "source": [
    "#Truncate timestamp to date\n",
    "#relations.loc[:,'date'] = relations['inserted_time'].apply(lambda x: datetime.datetime.strftime(datetime.datetime.strptime(x, '%Y-%m-%d %H:%M:%S.%f'),'%Y-%m-%d'))\n",
    "\n",
    "#Frequency table\n",
    "#pd.value_counts(user_relations.date).to_frame().reset_index()\n"
   ]
  },
  {
   "cell_type": "code",
   "execution_count": 6,
   "metadata": {
    "execution": {
     "iopub.execute_input": "2021-02-05T13:28:29.693384Z",
     "iopub.status.busy": "2021-02-05T13:28:29.692370Z",
     "iopub.status.idle": "2021-02-05T13:28:47.727747Z",
     "shell.execute_reply": "2021-02-05T13:28:47.725753Z"
    }
   },
   "outputs": [],
   "source": [
    "driver.quit()\n",
    "sys.stdout = orig_stdout\n",
    "f.close()"
   ]
  }
 ],
 "metadata": {
  "kernelspec": {
   "display_name": "Python 3",
   "language": "python",
   "name": "python3"
  },
  "language_info": {
   "codemirror_mode": {
    "name": "ipython",
    "version": 3
   },
   "file_extension": ".py",
   "mimetype": "text/x-python",
   "name": "python",
   "nbconvert_exporter": "python",
   "pygments_lexer": "ipython3",
   "version": "3.7.3"
  }
 },
 "nbformat": 4,
 "nbformat_minor": 2
}
