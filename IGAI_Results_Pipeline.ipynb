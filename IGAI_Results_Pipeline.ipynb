{
 "cells": [
  {
   "cell_type": "markdown",
   "metadata": {},
   "source": [
    "# Load Libraries & Functions"
   ]
  },
  {
   "cell_type": "code",
   "execution_count": 1,
   "metadata": {},
   "outputs": [
    {
     "name": "stdout",
     "output_type": "stream",
     "text": [
      "Libraries and functions loaded correctly 2021-01-25 19:18:15.669272\n"
     ]
    }
   ],
   "source": [
    "import os\n",
    "path = os.getcwd() + '\\\\'\n",
    "igai_initialize = path + 'IGAI_Initialize.ipynb'\n",
    "\n",
    "%run $igai_initialize"
   ]
  },
  {
   "cell_type": "markdown",
   "metadata": {},
   "source": [
    "# Load Data"
   ]
  },
  {
   "cell_type": "code",
   "execution_count": 2,
   "metadata": {},
   "outputs": [],
   "source": [
    "users = pd.read_csv(users_file)\n",
    "relations = pd.read_csv(relations_file)\n",
    "vipuserstrk = pd.read_csv(vipuserstrk_file)"
   ]
  },
  {
   "cell_type": "code",
   "execution_count": 18,
   "metadata": {},
   "outputs": [
    {
     "data": {
      "text/html": [
       "<img src=\"https://instagram.fbcn5-1.fna.fbcdn.net/v/t51.2885-19/s150x150/139348715_1032887193876160_8791997670183495756_n.jpg?_nc_ht=instagram.fbcn5-1.fna.fbcdn.net&_nc_ohc=IYWoVcC7plcAX8Lakj9&tp=1&oh=5b59024beba7ffd4d9e033aabffb7b70&oe=60369942\" width=\"300\" height=\"300\"/>"
      ],
      "text/plain": [
       "<IPython.core.display.Image object>"
      ]
     },
     "execution_count": 18,
     "metadata": {},
     "output_type": "execute_result"
    }
   ],
   "source": [
    "username = 'roma.ba'\n",
    "img_url = users[users.username == username].profile_pic_url.iloc[0]\n",
    "Image(url= img_url,  width=300, height=300)"
   ]
  },
  {
   "cell_type": "code",
   "execution_count": 19,
   "metadata": {},
   "outputs": [
    {
     "data": {
      "text/html": [
       "<div>\n",
       "<style scoped>\n",
       "    .dataframe tbody tr th:only-of-type {\n",
       "        vertical-align: middle;\n",
       "    }\n",
       "\n",
       "    .dataframe tbody tr th {\n",
       "        vertical-align: top;\n",
       "    }\n",
       "\n",
       "    .dataframe thead th {\n",
       "        text-align: right;\n",
       "    }\n",
       "</style>\n",
       "<table border=\"1\" class=\"dataframe\">\n",
       "  <thead>\n",
       "    <tr style=\"text-align: right;\">\n",
       "      <th></th>\n",
       "      <th>date</th>\n",
       "      <th>followers</th>\n",
       "    </tr>\n",
       "  </thead>\n",
       "  <tbody>\n",
       "    <tr>\n",
       "      <th>19</th>\n",
       "      <td>2020-11-27</td>\n",
       "      <td>62826</td>\n",
       "    </tr>\n",
       "    <tr>\n",
       "      <th>104</th>\n",
       "      <td>2021-01-15</td>\n",
       "      <td>63250</td>\n",
       "    </tr>\n",
       "    <tr>\n",
       "      <th>166</th>\n",
       "      <td>2021-01-16</td>\n",
       "      <td>63254</td>\n",
       "    </tr>\n",
       "    <tr>\n",
       "      <th>190</th>\n",
       "      <td>2021-01-17</td>\n",
       "      <td>63227</td>\n",
       "    </tr>\n",
       "    <tr>\n",
       "      <th>241</th>\n",
       "      <td>2021-01-20</td>\n",
       "      <td>63133</td>\n",
       "    </tr>\n",
       "    <tr>\n",
       "      <th>266</th>\n",
       "      <td>2021-01-21</td>\n",
       "      <td>63130</td>\n",
       "    </tr>\n",
       "    <tr>\n",
       "      <th>291</th>\n",
       "      <td>2021-01-22</td>\n",
       "      <td>63112</td>\n",
       "    </tr>\n",
       "    <tr>\n",
       "      <th>579</th>\n",
       "      <td>2021-01-23</td>\n",
       "      <td>63109</td>\n",
       "    </tr>\n",
       "    <tr>\n",
       "      <th>710</th>\n",
       "      <td>2021-01-24</td>\n",
       "      <td>63071</td>\n",
       "    </tr>\n",
       "    <tr>\n",
       "      <th>1080</th>\n",
       "      <td>2021-01-25</td>\n",
       "      <td>63071</td>\n",
       "    </tr>\n",
       "  </tbody>\n",
       "</table>\n",
       "</div>"
      ],
      "text/plain": [
       "           date  followers\n",
       "19   2020-11-27      62826\n",
       "104  2021-01-15      63250\n",
       "166  2021-01-16      63254\n",
       "190  2021-01-17      63227\n",
       "241  2021-01-20      63133\n",
       "266  2021-01-21      63130\n",
       "291  2021-01-22      63112\n",
       "579  2021-01-23      63109\n",
       "710  2021-01-24      63071\n",
       "1080 2021-01-25      63071"
      ]
     },
     "execution_count": 19,
     "metadata": {},
     "output_type": "execute_result"
    }
   ],
   "source": [
    "kpi = \"followers\"\n",
    "dft = vipuserstrk[vipuserstrk.username == username][[\"inserted_time\", kpi]].sort_values(by=['inserted_time'], ascending = False)\n",
    "dft[\"date\"] = dft['inserted_time'].apply(lambda x: datetime.datetime.strptime(x[0:10], '%Y-%m-%d'))\n",
    "dft = dft[[\"date\", kpi]]\n",
    "dft = dft.drop_duplicates(subset=['date'], keep='first')\n",
    "dft = dft.sort_values(by=['date'], ascending = True)\n",
    "dft"
   ]
  },
  {
   "cell_type": "code",
   "execution_count": 20,
   "metadata": {},
   "outputs": [
    {
     "data": {
      "text/plain": [
       "(array([18597., 18604., 18611., 18618., 18628., 18635., 18642., 18649.]),\n",
       " [Text(0, 0, ''),\n",
       "  Text(0, 0, ''),\n",
       "  Text(0, 0, ''),\n",
       "  Text(0, 0, ''),\n",
       "  Text(0, 0, ''),\n",
       "  Text(0, 0, ''),\n",
       "  Text(0, 0, ''),\n",
       "  Text(0, 0, '')])"
      ]
     },
     "execution_count": 20,
     "metadata": {},
     "output_type": "execute_result"
    },
    {
     "data": {
      "image/png": "[encoded data removed]",
      "text/plain": [
       "<Figure size 432x288 with 1 Axes>"
      ]
     },
     "metadata": {
      "needs_background": "light"
     },
     "output_type": "display_data"
    }
   ],
   "source": [
    "plt.plot(dft['date'], dft[kpi])\n",
    "plt.xticks(rotation=90)\n"
   ]
  },
  {
   "cell_type": "code",
   "execution_count": 49,
   "metadata": {},
   "outputs": [
    {
     "data": {
      "text/html": [
       "<div>\n",
       "<style scoped>\n",
       "    .dataframe tbody tr th:only-of-type {\n",
       "        vertical-align: middle;\n",
       "    }\n",
       "\n",
       "    .dataframe tbody tr th {\n",
       "        vertical-align: top;\n",
       "    }\n",
       "\n",
       "    .dataframe thead th {\n",
       "        text-align: right;\n",
       "    }\n",
       "</style>\n",
       "<table border=\"1\" class=\"dataframe\">\n",
       "  <thead>\n",
       "    <tr style=\"text-align: right;\">\n",
       "      <th></th>\n",
       "      <th>21</th>\n",
       "    </tr>\n",
       "  </thead>\n",
       "  <tbody>\n",
       "    <tr>\n",
       "      <th>userid</th>\n",
       "      <td>-1913920944</td>\n",
       "    </tr>\n",
       "    <tr>\n",
       "      <th>username</th>\n",
       "      <td>rebolbear</td>\n",
       "    </tr>\n",
       "    <tr>\n",
       "      <th>full_name</th>\n",
       "      <td>Rebol</td>\n",
       "    </tr>\n",
       "    <tr>\n",
       "      <th>profile_pic_url</th>\n",
       "      <td>https://instagram.fbcn5-1.fna.fbcdn.net/v/t51....</td>\n",
       "    </tr>\n",
       "    <tr>\n",
       "      <th>is_private</th>\n",
       "      <td>True</td>\n",
       "    </tr>\n",
       "    <tr>\n",
       "      <th>is_verified</th>\n",
       "      <td>False</td>\n",
       "    </tr>\n",
       "    <tr>\n",
       "      <th>last_update_time_basic</th>\n",
       "      <td>2021-01-22 18:19:55.113712</td>\n",
       "    </tr>\n",
       "    <tr>\n",
       "      <th>is_business_account</th>\n",
       "      <td>False</td>\n",
       "    </tr>\n",
       "    <tr>\n",
       "      <th>posts</th>\n",
       "      <td>51</td>\n",
       "    </tr>\n",
       "    <tr>\n",
       "      <th>followers</th>\n",
       "      <td>4185</td>\n",
       "    </tr>\n",
       "    <tr>\n",
       "      <th>followed</th>\n",
       "      <td>2242</td>\n",
       "    </tr>\n",
       "    <tr>\n",
       "      <th>highlighted_stories</th>\n",
       "      <td>8</td>\n",
       "    </tr>\n",
       "    <tr>\n",
       "      <th>igtv</th>\n",
       "      <td>0</td>\n",
       "    </tr>\n",
       "    <tr>\n",
       "      <th>collections</th>\n",
       "      <td>0</td>\n",
       "    </tr>\n",
       "    <tr>\n",
       "      <th>connected_fb_page</th>\n",
       "      <td>NaN</td>\n",
       "    </tr>\n",
       "    <tr>\n",
       "      <th>biography</th>\n",
       "      <td>Party monster, gym rat and piano beginner from...</td>\n",
       "    </tr>\n",
       "    <tr>\n",
       "      <th>is_joined_recently</th>\n",
       "      <td>False</td>\n",
       "    </tr>\n",
       "    <tr>\n",
       "      <th>business_category_name</th>\n",
       "      <td>NaN</td>\n",
       "    </tr>\n",
       "    <tr>\n",
       "      <th>overall_category_name</th>\n",
       "      <td>NaN</td>\n",
       "    </tr>\n",
       "    <tr>\n",
       "      <th>category_enum</th>\n",
       "      <td>NaN</td>\n",
       "    </tr>\n",
       "    <tr>\n",
       "      <th>has_ar_effects</th>\n",
       "      <td>False</td>\n",
       "    </tr>\n",
       "    <tr>\n",
       "      <th>has_clips</th>\n",
       "      <td>False</td>\n",
       "    </tr>\n",
       "    <tr>\n",
       "      <th>has_guides</th>\n",
       "      <td>False</td>\n",
       "    </tr>\n",
       "    <tr>\n",
       "      <th>has_channel</th>\n",
       "      <td>False</td>\n",
       "    </tr>\n",
       "    <tr>\n",
       "      <th>external_url</th>\n",
       "      <td>NaN</td>\n",
       "    </tr>\n",
       "    <tr>\n",
       "      <th>profile_pic_url_hd</th>\n",
       "      <td>https://instagram.fbcn5-1.fna.fbcdn.net/v/t51....</td>\n",
       "    </tr>\n",
       "    <tr>\n",
       "      <th>external_url_linkshimmed</th>\n",
       "      <td>NaN</td>\n",
       "    </tr>\n",
       "    <tr>\n",
       "      <th>last_update_time_info</th>\n",
       "      <td>2021-01-22 18:19:55.113712</td>\n",
       "    </tr>\n",
       "  </tbody>\n",
       "</table>\n",
       "</div>"
      ],
      "text/plain": [
       "                                                                         21\n",
       "userid                                                          -1913920944\n",
       "username                                                          rebolbear\n",
       "full_name                                                             Rebol\n",
       "profile_pic_url           https://instagram.fbcn5-1.fna.fbcdn.net/v/t51....\n",
       "is_private                                                             True\n",
       "is_verified                                                           False\n",
       "last_update_time_basic                           2021-01-22 18:19:55.113712\n",
       "is_business_account                                                   False\n",
       "posts                                                                    51\n",
       "followers                                                              4185\n",
       "followed                                                               2242\n",
       "highlighted_stories                                                       8\n",
       "igtv                                                                      0\n",
       "collections                                                               0\n",
       "connected_fb_page                                                       NaN\n",
       "biography                 Party monster, gym rat and piano beginner from...\n",
       "is_joined_recently                                                    False\n",
       "business_category_name                                                  NaN\n",
       "overall_category_name                                                   NaN\n",
       "category_enum                                                           NaN\n",
       "has_ar_effects                                                        False\n",
       "has_clips                                                             False\n",
       "has_guides                                                            False\n",
       "has_channel                                                           False\n",
       "external_url                                                            NaN\n",
       "profile_pic_url_hd        https://instagram.fbcn5-1.fna.fbcdn.net/v/t51....\n",
       "external_url_linkshimmed                                                NaN\n",
       "last_update_time_info                            2021-01-22 18:19:55.113712"
      ]
     },
     "execution_count": 49,
     "metadata": {},
     "output_type": "execute_result"
    }
   ],
   "source": [
    "users[users.username == username].T\n"
   ]
  },
  {
   "cell_type": "code",
   "execution_count": 62,
   "metadata": {},
   "outputs": [],
   "source": [
    "user_trk = vipuserstrk[vipuserstrk.username == username]\n"
   ]
  },
  {
   "cell_type": "markdown",
   "metadata": {},
   "source": [
    "# Extract account's Followers and Followed"
   ]
  },
  {
   "cell_type": "code",
   "execution_count": null,
   "metadata": {},
   "outputs": [],
   "source": [
    "account = 'rebolbear'"
   ]
  },
  {
   "cell_type": "code",
   "execution_count": 60,
   "metadata": {
    "slideshow": {
     "slide_type": "slide"
    }
   },
   "outputs": [],
   "source": [
    "user_rel = relations[relations.username == account][\"followed_by_username\"]\n",
    "user_rel.to_csv(path + \"followers_of_\" + account , mode='w', header=True, index = False) #create"
   ]
  },
  {
   "cell_type": "code",
   "execution_count": 59,
   "metadata": {},
   "outputs": [],
   "source": [
    "user_rel = relations[relations.followed_by_username == account][\"username\"]\n",
    "user_rel.to_csv(path + \"followed_by_\" + account , mode='w', header=True, index = False) #create"
   ]
  },
  {
   "cell_type": "markdown",
   "metadata": {
    "collapsed": true
   },
   "source": [
    "# Extract username's Followers that don't follow back"
   ]
  },
  {
   "cell_type": "code",
   "execution_count": 61,
   "metadata": {},
   "outputs": [],
   "source": [
    "account = 'rebolbear'\n",
    "relations = pd.read_csv(relations_file)\n",
    "fwr = list(relations[(relations.username == account) & (relations.status == \"following\")][\"followed_by_username\"])\n",
    "fwd = list(relations[(relations.followed_by_username == account) & (relations.status == \"following\")][\"username\"])\n",
    "notfollowers = [item for item in fwd if item not in fwr]\n",
    "notfollowers = pd.DataFrame(notfollowers, columns=['notfollowers'])\n",
    "notfollowers.to_csv(path + \"not_followers_\" + account , mode='w', header=True, index = False) #create"
   ]
  },
  {
   "cell_type": "code",
   "execution_count": null,
   "metadata": {},
   "outputs": [],
   "source": []
  },
  {
   "cell_type": "code",
   "execution_count": null,
   "metadata": {},
   "outputs": [],
   "source": []
  },
  {
   "cell_type": "code",
   "execution_count": null,
   "metadata": {
    "collapsed": true
   },
   "outputs": [],
   "source": []
  },
  {
   "cell_type": "code",
   "execution_count": null,
   "metadata": {
    "collapsed": true
   },
   "outputs": [],
   "source": []
  },
  {
   "cell_type": "code",
   "execution_count": null,
   "metadata": {
    "collapsed": true
   },
   "outputs": [],
   "source": []
  },
  {
   "cell_type": "code",
   "execution_count": null,
   "metadata": {
    "collapsed": true
   },
   "outputs": [],
   "source": [
    "#how to show only output in jupyter notebooks\n",
    "#https://www.youtube.com/watch?v=rJsWJMBksK0\n",
    "\n",
    "#interactive reports (está guay)\n",
    "#https://towardsdatascience.com/interactive-reporting-in-jupyter-notebook-92a4fa90c09a"
   ]
  }
 ],
 "metadata": {
  "kernelspec": {
   "display_name": "Python 3",
   "language": "python",
   "name": "python3"
  },
  "language_info": {
   "codemirror_mode": {
    "name": "ipython",
    "version": 3
   },
   "file_extension": ".py",
   "mimetype": "text/x-python",
   "name": "python",
   "nbconvert_exporter": "python",
   "pygments_lexer": "ipython3",
   "version": "3.7.3"
  }
 },
 "nbformat": 4,
 "nbformat_minor": 2
}
