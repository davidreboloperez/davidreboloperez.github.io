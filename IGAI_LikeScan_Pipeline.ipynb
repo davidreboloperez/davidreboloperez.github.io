{
 "cells": [
  {
   "cell_type": "markdown",
   "metadata": {},
   "source": [
    "# Load Libraries & Functions"
   ]
  },
  {
   "cell_type": "code",
   "execution_count": 27,
   "metadata": {},
   "outputs": [
    {
     "name": "stdout",
     "output_type": "stream",
     "text": [
      "Libraries and functions loaded correctly 2021-01-24 16:26:59.798577\n"
     ]
    }
   ],
   "source": [
    "import os\n",
    "path = os.getcwd() + '\\\\'\n",
    "igai_initialize = path + 'IGAI_Initialize.ipynb'\n",
    "\n",
    "%run $igai_initialize"
   ]
  },
  {
   "cell_type": "markdown",
   "metadata": {},
   "source": [
    "# Start Driver & Login"
   ]
  },
  {
   "cell_type": "code",
   "execution_count": 28,
   "metadata": {},
   "outputs": [],
   "source": [
    "#account = \"beautiful.flowers.and.plants\"\n",
    "#account = 'las.m.a.m.o'\n",
    "#account = 'reboludeces'\n",
    "account = '_rebocop'"
   ]
  },
  {
   "cell_type": "code",
   "execution_count": 29,
   "metadata": {},
   "outputs": [],
   "source": [
    "driver = webdriver.Chrome(executable_path=\"C:\\Program Files (x86)\\Google\\Chrome\\Application\\chromedriver.exe\")\n",
    "driver.maximize_window()\n",
    "driver.implicitly_wait(10)\n",
    "\n",
    "pwd = pd.read_csv(pwd_file)\n",
    "pwdaccount = pwd[pwd.username == account].pwd.iloc[0]\n",
    "\n",
    "do_Login(account,pwdaccount)"
   ]
  },
  {
   "cell_type": "markdown",
   "metadata": {},
   "source": [
    "# PIPELINE 3: Extract Users who liked a Photo"
   ]
  },
  {
   "cell_type": "code",
   "execution_count": 33,
   "metadata": {},
   "outputs": [
    {
     "name": "stdout",
     "output_type": "stream",
     "text": [
      "EXTRACTING LIKES OF PIC CKXUGGYIQJE\n",
      "--------------------------------------------------------------------------------------------------------------\n",
      "Sleep ratio: 1.25\n",
      "Loaded fileC:\\Users\\DavidRebollo\\0.InstagramScrapping\\dev\\status_likes\n",
      "\n",
      "Extracting 1000 likes of CKXuggyIqjE (total: 1000) will take 0 minutes 52 seconds aproximately.\n",
      "Extracted: 0 -> 50 -> 100 -> 150 -> 200 -> 250 -> 300 -> 350 -> 400 -> 450 -> 500 -> 550 -> 600 -> 650 -> 700 -> 750 -> 800 -> 850 -> 900 -> 950 -> 1000 -> 1050 -> 1100 -> 1150 -> 1200 -> 1250 -> 1300 -> 1350 -> 1400 -> 1450 -> 1500 -> 1550 -> 1600 -> 1650 -> 1700 -> 1750 -> 1800 -> 1850 -> 1900 -> 1950 -> 2000 -> 2050 -> 2100 -> 2150 -> 2200 -> 2250 -> 2300 -> 2350 -> 2400 -> 2450 -> 2500 -> 2550 -> 2600 -> 2650 -> 2700 -> 2750 -> 2800 -> 2850 -> 2900 -> 2950 -> 3000 -> 3050 -> 3100 -> 3150 -> 3200 -> 3250 -> 3300 -> 3350 -> 3400 -> 3444\n",
      "\n",
      "Loaded file users_ext.csv with 3444 records.\n",
      "Loaded file users.csv with 52098 records.\n",
      "Table users updated, now it has 55530 records.\n",
      "Saved csv file: C:\\Users\\DavidRebollo\\0.InstagramScrapping\\dev\\users\n",
      "Removed csv file: C:\\Users\\DavidRebollo\\0.InstagramScrapping\\dev\\users_ext\n",
      "\n",
      "\n",
      "FINISHED ========================================================================================================\n"
     ]
    }
   ],
   "source": [
    "max_status_hours = 72 #maximum hours to look backwards in status log table\n",
    "requests = 0\n",
    "process = 'likes' #followed, hashtags\n",
    "risk_level = 0.5\n",
    "\n",
    "#vip_users = list(['reboludeces', 'rebolbear', 'danisure21', 'jav_rubin', 'seraspatetica', 'dramasdehonor', 'lavictoriabanks'])\n",
    "pic_shortcode = list(['CKXuggyIqjE']) \n",
    "\n",
    "for pic in pic_shortcode:\n",
    "    print('EXTRACTING ' + process.upper() + ' OF PIC ' + pic.upper() )\n",
    "    print('--------------------------------------------------------------------------------------------------------------')\n",
    "    requests = readFollowers(pic, process, max_status_hours, requests, risk_level)\n",
    "    print('\\n')\n",
    "    time.sleep(2)\n",
    "\n",
    "print('FINISHED ========================================================================================================')"
   ]
  }
 ],
 "metadata": {
  "kernelspec": {
   "display_name": "Python 3",
   "language": "python",
   "name": "python3"
  },
  "language_info": {
   "codemirror_mode": {
    "name": "ipython",
    "version": 3
   },
   "file_extension": ".py",
   "mimetype": "text/x-python",
   "name": "python",
   "nbconvert_exporter": "python",
   "pygments_lexer": "ipython3",
   "version": "3.7.3"
  }
 },
 "nbformat": 4,
 "nbformat_minor": 2
}
