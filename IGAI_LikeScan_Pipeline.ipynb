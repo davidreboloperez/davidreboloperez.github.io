{
 "cells": [
  {
   "cell_type": "markdown",
   "metadata": {},
   "source": [
    "# Load Libraries & Functions"
   ]
  },
  {
   "cell_type": "code",
   "execution_count": 6,
   "metadata": {},
   "outputs": [
    {
     "name": "stdout",
     "output_type": "stream",
     "text": [
      "06-02-2021 16:08:08 - Libraries and functions loaded correctly\n"
     ]
    }
   ],
   "source": [
    "import os\n",
    "path = os.getcwd() + '\\\\'\n",
    "igai_initialize = path + 'IGAI_Initialize.ipynb'\n",
    "\n",
    "%run $igai_initialize"
   ]
  },
  {
   "cell_type": "markdown",
   "metadata": {},
   "source": [
    "# Start Driver & Login"
   ]
  },
  {
   "cell_type": "code",
   "execution_count": 7,
   "metadata": {},
   "outputs": [],
   "source": [
    "#account = \"beautiful.flowers.and.plants\"\n",
    "#account = 'las.m.a.m.o'\n",
    "#account = 'reboludeces'\n",
    "account = '_rebocop'"
   ]
  },
  {
   "cell_type": "code",
   "execution_count": 8,
   "metadata": {},
   "outputs": [
    {
     "name": "stdout",
     "output_type": "stream",
     "text": [
      "06-02-2021 16:08:08 - Account: @_rebocop\n",
      "06-02-2021 16:08:08 - Logs will be printed on screen\n",
      "06-02-2021 16:08:17 - @_rebocop was already logged in\n"
     ]
    }
   ],
   "source": [
    "printf('Account: @' + account)\n",
    "f, orig_stdout = saveLogs(account, 'LikeScan')\n",
    "\n",
    "driver = startDriver(account)\n",
    "Login(account)"
   ]
  },
  {
   "cell_type": "markdown",
   "metadata": {},
   "source": [
    "# PIPELINE 3: Extract Users who liked a Photo"
   ]
  },
  {
   "cell_type": "code",
   "execution_count": 9,
   "metadata": {},
   "outputs": [
    {
     "name": "stdout",
     "output_type": "stream",
     "text": [
      "EXTRACTING LIKES OF PIC CG93KEHDPQE\n",
      "--------------------------------------------------------------------------------------------------------------\n",
      "06-02-2021 16:08:17 - Sleep ratio: 1.25\n",
      "06-02-2021 16:08:17 - Loaded fileC:\\Users\\DavidRebollo\\0.InstagramScrapping\\dev\\status_likes\n",
      "06-02-2021 16:08:17 - \n",
      "Extracting 1000 likes of CG93KEhDPqE (total: 1000) will take 0 minutes 52 seconds aproximately.\n",
      "06-02-2021 16:08:17 - \n",
      "Extracted: 0 -> 50 -> 100 -> 150 -> 200 -> 250 -> 300 -> 350\n",
      "\n",
      "06-02-2021 16:09:04 - Loaded file users_ext.csv with 350 records.\n",
      "06-02-2021 16:09:04 - Loaded file users.csv with 49072 records.\n",
      "06-02-2021 16:09:05 - Table users updated, now it has 49184 records.\n",
      "06-02-2021 16:09:05 - Saved csv file: C:\\Users\\DavidRebollo\\0.InstagramScrapping\\dev\\users\n",
      "06-02-2021 16:09:05 - Removed csv file: C:\\Users\\DavidRebollo\\0.InstagramScrapping\\dev\\users_ext\n",
      "\n",
      "\n",
      "FINISHED ========================================================================================================\n"
     ]
    }
   ],
   "source": [
    "max_status_hours = 72 #maximum hours to look backwards in status log table\n",
    "requests = 0\n",
    "process = 'likes' #followed, hashtags\n",
    "risk_level = 0.5\n",
    "\n",
    "#vip_users = list(['reboludeces', 'rebolbear', 'danisure21', 'jav_rubin', 'seraspatetica', 'dramasdehonor', 'lavictoriabanks'])\n",
    "pic_shortcode = list(['CG93KEhDPqE']) \n",
    "\n",
    "for pic in pic_shortcode:\n",
    "    print('EXTRACTING ' + process.upper() + ' OF PIC ' + pic.upper() )\n",
    "    print('--------------------------------------------------------------------------------------------------------------')\n",
    "    requests = readFollowers(pic, process, max_status_hours, requests, risk_level)\n",
    "    print('\\n')\n",
    "    time.sleep(2)\n",
    "\n",
    "print('FINISHED ========================================================================================================')"
   ]
  },
  {
   "cell_type": "code",
   "execution_count": 10,
   "metadata": {},
   "outputs": [
    {
     "ename": "AttributeError",
     "evalue": "'int' object has no attribute 'close'",
     "output_type": "error",
     "traceback": [
      "\u001b[1;31m---------------------------------------------------------------------------\u001b[0m",
      "\u001b[1;31mAttributeError\u001b[0m                            Traceback (most recent call last)",
      "\u001b[1;32m<ipython-input-10-ee711c922418>\u001b[0m in \u001b[0;36m<module>\u001b[1;34m\u001b[0m\n\u001b[0;32m      1\u001b[0m \u001b[0mdriver\u001b[0m\u001b[1;33m.\u001b[0m\u001b[0mquit\u001b[0m\u001b[1;33m(\u001b[0m\u001b[1;33m)\u001b[0m\u001b[1;33m\u001b[0m\u001b[1;33m\u001b[0m\u001b[0m\n\u001b[0;32m      2\u001b[0m \u001b[0msys\u001b[0m\u001b[1;33m.\u001b[0m\u001b[0mstdout\u001b[0m \u001b[1;33m=\u001b[0m \u001b[0morig_stdout\u001b[0m\u001b[1;33m\u001b[0m\u001b[1;33m\u001b[0m\u001b[0m\n\u001b[1;32m----> 3\u001b[1;33m \u001b[0mf\u001b[0m\u001b[1;33m.\u001b[0m\u001b[0mclose\u001b[0m\u001b[1;33m(\u001b[0m\u001b[1;33m)\u001b[0m\u001b[1;33m\u001b[0m\u001b[1;33m\u001b[0m\u001b[0m\n\u001b[0m",
      "\u001b[1;31mAttributeError\u001b[0m: 'int' object has no attribute 'close'"
     ]
    }
   ],
   "source": [
    "driver.quit()\n",
    "sys.stdout = orig_stdout\n",
    "f.close()"
   ]
  }
 ],
 "metadata": {
  "kernelspec": {
   "display_name": "Python 3",
   "language": "python",
   "name": "python3"
  },
  "language_info": {
   "codemirror_mode": {
    "name": "ipython",
    "version": 3
   },
   "file_extension": ".py",
   "mimetype": "text/x-python",
   "name": "python",
   "nbconvert_exporter": "python",
   "pygments_lexer": "ipython3",
   "version": "3.7.3"
  }
 },
 "nbformat": 4,
 "nbformat_minor": 2
}
